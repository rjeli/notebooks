{
 "cells": [
  {
   "cell_type": "code",
   "execution_count": 1,
   "id": "70a419f3-a693-4e32-9624-773bff7bb5b3",
   "metadata": {},
   "outputs": [],
   "source": [
    "load('utils.sage') # log2_strict"
   ]
  },
  {
   "cell_type": "markdown",
   "id": "81e0ec6b-2a8f-4e46-9ca8-cd004e16828e",
   "metadata": {},
   "source": [
    "We are working over GF(17), so RS codes will only work for block sizes <=17."
   ]
  },
  {
   "cell_type": "code",
   "execution_count": 2,
   "id": "4e34c49d-31cb-4af5-8c41-1cd1845226f2",
   "metadata": {},
   "outputs": [
    {
     "data": {
      "text/plain": [
       "(Finite Field of size 17, Finite Field in z of size 17^2)"
      ]
     },
     "execution_count": 2,
     "metadata": {},
     "output_type": "execute_result"
    }
   ],
   "source": [
    "F = GF(17)\n",
    "R.<X> = F[]\n",
    "EF.<z> = F.extension(X^2 - 3)\n",
    "F, EF"
   ]
  },
  {
   "cell_type": "code",
   "execution_count": 3,
   "id": "4814d5d3-b1a7-4a51-8d9c-838933870828",
   "metadata": {},
   "outputs": [],
   "source": [
    "def to_bits(x, n_bits):\n",
    "    for i in range(n_bits):\n",
    "        yield (x >> i) & 1\n",
    "def eq(ys, R=None):\n",
    "    ys = list(ys)\n",
    "    if R is None:\n",
    "        R = PolynomialRing(ys[0].parent(), len(ys), 'x')\n",
    "    return product(\n",
    "        x*y + (1 - x)*(1 - y)\n",
    "        for x, y in zip(R.gens(), ys)\n",
    "    )\n",
    "def mle(evals):\n",
    "    n_bits = log2_strict(len(evals))\n",
    "    return sum(eq(to_bits(i, n_bits))*evals[i] for i in range(2^n_bits))"
   ]
  },
  {
   "cell_type": "markdown",
   "id": "f1009f3d-602d-4b90-bf58-512440293eb7",
   "metadata": {},
   "source": [
    "# Basic Small-Field Construction\n",
    "> (..) we allow the polynomial’s coefficient field and the code’s alphabet to be sub-cryptographically sized, though we require that these fields be equal to each other."
   ]
  },
  {
   "cell_type": "code",
   "execution_count": 4,
   "id": "caa15bbd-ad3f-485e-980f-c279dac490fc",
   "metadata": {},
   "outputs": [],
   "source": [
    "def ExtensionCode(f, n, k):\n",
    "    rs = codes.ReedSolomonCode(f, n, k)\n",
    "    def encode(v):\n",
    "        d = v.base_ring().degree()\n",
    "        if d == 1:\n",
    "            return rs.encode(v)\n",
    "        else:\n",
    "            codewords = [rs.encode(vector([x[i] for x in v])) for i in range(d)]\n",
    "            return vector([v.base_ring()(list(xs)) for xs in zip(*codewords)])\n",
    "    return encode"
   ]
  },
  {
   "cell_type": "code",
   "execution_count": 5,
   "id": "13d9eb9b-65ea-436b-b772-1b67649ba1fb",
   "metadata": {},
   "outputs": [],
   "source": [
    "l0, l1 = (1, 3)\n",
    "l = l0 + l1\n",
    "m0, m1 = 2^l0, 2^l1\n",
    "C = ExtensionCode(F, 2^l, m1)"
   ]
  },
  {
   "cell_type": "code",
   "execution_count": 6,
   "id": "c710dd11-1b69-4b7f-accf-969b57583367",
   "metadata": {},
   "outputs": [
    {
     "data": {
      "text/plain": [
       "[3, 16, 1, 0, 10, 16, 5, 16, 2, 5, 14, 2, 8, 4, 4, 6]"
      ]
     },
     "execution_count": 6,
     "metadata": {},
     "output_type": "execute_result"
    }
   ],
   "source": [
    "with seed(0):\n",
    "    evals = [F.random_element() for _ in range(2^l)]\n",
    "evals"
   ]
  },
  {
   "cell_type": "code",
   "execution_count": 7,
   "id": "0846e94f-bbd6-467f-a29f-0db43c784498",
   "metadata": {},
   "outputs": [
    {
     "data": {
      "text/plain": [
       "[3, 16, 1, 0, 10, 16, 5, 16, 2, 5, 14, 2, 8, 4, 4, 6]"
      ]
     },
     "execution_count": 7,
     "metadata": {},
     "output_type": "execute_result"
    }
   ],
   "source": [
    "[mle(evals)(*to_bits(i, 4)) for i in range(16)]"
   ]
  },
  {
   "cell_type": "markdown",
   "id": "7143151b-32c1-4bb6-9386-8599e13e0ff3",
   "metadata": {},
   "source": [
    "### Commit to `evals`"
   ]
  },
  {
   "cell_type": "code",
   "execution_count": 8,
   "id": "e8b68268-015f-4fe2-92f8-8e28033ce619",
   "metadata": {},
   "outputs": [
    {
     "data": {
      "text/plain": [
       "[ 3 16  1  0 10 16  5 16]\n",
       "[ 2  5 14  2  8  4  4  6]"
      ]
     },
     "execution_count": 8,
     "metadata": {},
     "output_type": "execute_result"
    }
   ],
   "source": [
    "t = matrix(m0, m1, evals); t"
   ]
  },
  {
   "cell_type": "code",
   "execution_count": 9,
   "id": "056ac50b-1c38-4a14-82c4-72274c9814cf",
   "metadata": {},
   "outputs": [
    {
     "data": {
      "text/plain": [
       "[16 11  7 14 11  3  3 10  5 15 11  5  3 10  2  7]\n",
       "[11  5  5  4  5  5 13 13 11  1  5 12 13  5  4  5]"
      ]
     },
     "execution_count": 9,
     "metadata": {},
     "output_type": "execute_result"
    }
   ],
   "source": [
    "u = matrix([C(row) for row in t]); u"
   ]
  },
  {
   "cell_type": "code",
   "execution_count": 10,
   "id": "662cbb70-a5d8-4e97-a020-3f40621a9c66",
   "metadata": {},
   "outputs": [],
   "source": [
    "# todo: merkle commit u"
   ]
  },
  {
   "cell_type": "markdown",
   "id": "c233b585-a8cc-43e2-8f71-6c19ba0cf1aa",
   "metadata": {},
   "source": [
    "### Open `evals` at `r` = `s`"
   ]
  },
  {
   "cell_type": "code",
   "execution_count": 11,
   "id": "19d845f6-0af9-4ec4-883f-c04109fdaea3",
   "metadata": {},
   "outputs": [
    {
     "data": {
      "text/plain": [
       "([2*z + 11, z + 11, 3*z, 8*z + 10], 11)"
      ]
     },
     "execution_count": 11,
     "metadata": {},
     "output_type": "execute_result"
    }
   ],
   "source": [
    "with seed(1):\n",
    "    rs = [EF.random_element() for _ in range(l)]\n",
    "s = mle(evals)(*rs); s\n",
    "rs, s"
   ]
  },
  {
   "cell_type": "code",
   "execution_count": 12,
   "id": "0b94b5a1-28fb-4ece-a2eb-5eedc52e5dbf",
   "metadata": {},
   "outputs": [
    {
     "name": "stdout",
     "output_type": "stream",
     "text": [
      "(z + 6, 11*z + 10, 10*z + 2, 9*z, 12*z + 15, 9*z + 10, 9*z + 1, 7*z + 8) (9*z + 8, 8*z + 10)\n"
     ]
    },
    {
     "data": {
      "text/plain": [
       "(9*z + 10, 14*z + 8, 2*z + 12, 16*z + 3, z + 7, 6*z + 15, 9*z + 12, 5*z + 1)"
      ]
     },
     "execution_count": 12,
     "metadata": {},
     "output_type": "execute_result"
    }
   ],
   "source": [
    "r0_expansion = vector([eq(rs[:l1])(*to_bits(i, l1)) for i in range(m1)])\n",
    "r1_expansion = vector([eq(rs[l1:])(*to_bits(i, l0)) for i in range(m0)])\n",
    "print(r0_expansion, r1_expansion)\n",
    "t_prime = r1_expansion * t\n",
    "t_prime"
   ]
  },
  {
   "cell_type": "markdown",
   "id": "4003c1ab-a90c-42ee-a12d-ca5066bdd2a6",
   "metadata": {},
   "source": [
    "### Verify"
   ]
  },
  {
   "cell_type": "code",
   "execution_count": 13,
   "id": "4f8e32f1-e4d1-4f27-b5f3-f71dd0dd3e57",
   "metadata": {},
   "outputs": [],
   "source": [
    "assert t_prime * r0_expansion == s\n",
    "for j in [randint(0, 2^l - 1) for _ in range(5)]:\n",
    "    # todo: merkle check u.column(j)\n",
    "    assert r1_expansion * u.column(j) == C(t_prime)[j]"
   ]
  },
  {
   "cell_type": "markdown",
   "id": "bc187d21-54ea-45c1-8307-6383774ed6ec",
   "metadata": {},
   "source": [
    "# Block-Level Encoding\n",
    "> (..) suitable for polynomials over fields smaller than the alphabet of the linear block code selected for use."
   ]
  },
  {
   "cell_type": "code",
   "execution_count": 14,
   "id": "45e02507-28e8-42ad-8891-80ef6b3c32cd",
   "metadata": {},
   "outputs": [],
   "source": [
    "def PackedCode(ef, n, k):\n",
    "    d = ef.degree()\n",
    "    assert n % d == 0 and k % d == 0\n",
    "    rs = codes.ReedSolomonCode(ef, n, k//d)\n",
    "    print(rs)\n",
    "    def encode(v):\n",
    "        if v.base_ring() is ef:\n",
    "            return rs.encode(v)\n",
    "        else:\n",
    "            assert v.base_ring() is ef.base_ring() and len(v) % d == 0\n",
    "            packed = vector([ef(v[i:i+d]) for i in range(0, len(v), d)])\n",
    "            return rs.encode(packed)\n",
    "    return encode"
   ]
  },
  {
   "cell_type": "code",
   "execution_count": 15,
   "id": "5bbb952e-5890-4516-9db7-14717cf2bc7b",
   "metadata": {},
   "outputs": [
    {
     "name": "stdout",
     "output_type": "stream",
     "text": [
      "[32, 8, 25] Reed-Solomon Code over GF(289)\n"
     ]
    },
    {
     "data": {
      "text/plain": [
       "(2, 16, 32)"
      ]
     },
     "execution_count": 15,
     "metadata": {},
     "output_type": "execute_result"
    }
   ],
   "source": [
    "# since our trace length is 2^(3+2) = 32, we would not be able to apply a code in GF(17)\n",
    "l0, l1 = (1, 4)\n",
    "l = l0 + l1\n",
    "m0, m1, n = 2^l0, 2^l1, 2^l\n",
    "C = PackedCode(EF, n, m1)\n",
    "m0, m1, n"
   ]
  },
  {
   "cell_type": "code",
   "execution_count": 16,
   "id": "7e0d593c-6541-4946-bec6-2c090713e9c5",
   "metadata": {},
   "outputs": [
    {
     "name": "stdout",
     "output_type": "stream",
     "text": [
      "[3, 16, 1, 0, 10, 16, 5, 16, 2, 5, 14, 2, 8, 4, 4, 6, 0, 4, 15, 15, 10, 12, 13, 6, 13, 7, 1, 9, 1, 15, 12, 8]\n"
     ]
    }
   ],
   "source": [
    "with seed(0):\n",
    "    evals = [F.random_element() for _ in range(n)]\n",
    "print(evals)"
   ]
  },
  {
   "cell_type": "markdown",
   "id": "466fc01a-eb22-44e5-9bc2-b13539ab15de",
   "metadata": {},
   "source": [
    "### Commit"
   ]
  },
  {
   "cell_type": "code",
   "execution_count": 17,
   "id": "8b2d86ee-06db-4c24-b4f4-e9fab60cd000",
   "metadata": {},
   "outputs": [
    {
     "name": "stdout",
     "output_type": "stream",
     "text": [
      "[ 3 16  1  0 10 16  5 16  2  5 14  2  8  4  4  6]\n",
      "[ 0  4 15 15 10 12 13  6 13  7  1  9  1 15 12  8]\n"
     ]
    }
   ],
   "source": [
    "t = matrix(m0, m1, evals); print(t)\n",
    "assert (t.nrows(), t.ncols()) == (m0, m1)"
   ]
  },
  {
   "cell_type": "code",
   "execution_count": 18,
   "id": "d913129e-1548-4665-b83c-df4337146d79",
   "metadata": {},
   "outputs": [
    {
     "name": "stdout",
     "output_type": "stream",
     "text": [
      "[14*z + 13   6*z + 4  15*z + 4  9*z + 11 10*z + 10  12*z + 1 12*z + 15   4*z + 8 13*z + 14  8*z + 16  16*z + 7   2*z + 6        10   3*z + 9  16*z + 9 15*z + 11        16   8*z + 5 11*z + 15  13*z + 5    z + 10 11*z + 11         9 13*z + 12  6*z + 11     z + 8  10*z + 5         8  16*z + 8  11*z + 4 14*z + 11  4*z + 14]\n",
      "[ 8*z + 14   4*z + 2  3*z + 13   3*z + 6  16*z + 7       5*z       2*z   9*z + 1  12*z + 4  11*z + 8  6*z + 15 16*z + 12   6*z + 4     z + 8   3*z + 8      14*z         0 13*z + 16   3*z + 8  14*z + 3  2*z + 14  2*z + 11 12*z + 14   4*z + 8       7*z       2*z 11*z + 11 12*z + 11  15*z + 8  11*z + 6  9*z + 16 11*z + 10]\n"
     ]
    }
   ],
   "source": [
    "u = matrix([C(row) for row in t]); print(u)\n",
    "assert (u.nrows(), u.ncols()) == (m0, n)\n",
    "# todo: merkle commit u"
   ]
  },
  {
   "cell_type": "markdown",
   "id": "93ec511b-1835-4612-92ea-0d8cbcc0e41b",
   "metadata": {},
   "source": [
    "### Open"
   ]
  },
  {
   "cell_type": "code",
   "execution_count": 19,
   "id": "0411d1fa-cb3d-49da-a298-a7d2e0d0e9e5",
   "metadata": {},
   "outputs": [
    {
     "data": {
      "text/plain": [
       "([2*z + 11, z + 11, 3*z, 8*z + 10, 16*z + 3], 2*z + 3)"
      ]
     },
     "execution_count": 19,
     "metadata": {},
     "output_type": "execute_result"
    }
   ],
   "source": [
    "with seed(1):\n",
    "    rs = [EF.random_element() for _ in range(l)]\n",
    "s = mle(evals)(*rs); s\n",
    "rs, s"
   ]
  },
  {
   "cell_type": "markdown",
   "id": "710d63ad-1a08-4f29-812b-bba618797835",
   "metadata": {},
   "source": [
    ">  P computes the matrix–vector product t' := ⊗_{i=l1..l-1} (1 − r_i, r_i) · t, here interpreting the\n",
    "> matrix t as an unpacked, m0 × m1 matrix with entries in Tι. P sends V t' in the clear."
   ]
  },
  {
   "cell_type": "code",
   "execution_count": 20,
   "id": "99c2d7df-6f4f-4161-ab8c-27381065938d",
   "metadata": {},
   "outputs": [
    {
     "name": "stdout",
     "output_type": "stream",
     "text": [
      "(11*z + 7, 8*z + 3, 13*z + 14, 4*z + 5, 10*z + 2, 9*z, 13*z + 13, 9*z + 15, 7*z + 16, 3*z + 7, 14*z + 5, 5*z + 12, 2*z + 13, 10, 13*z + 5, 15*z + 10) (z + 15, 16*z + 3)\n"
     ]
    },
    {
     "data": {
      "text/plain": [
       "(3*z + 11, 12*z + 14, 3*z + 9, 2*z + 11, 10, 4*z + 4, 9*z + 12, 10*z + 3, 6*z + 1, 15*z + 11, 13*z + 9, 10*z + 6, 7*z + 4, 6*z + 3, 9*z + 11, 15*z + 12)"
      ]
     },
     "execution_count": 20,
     "metadata": {},
     "output_type": "execute_result"
    }
   ],
   "source": [
    "r0_expansion = vector([eq(rs[:l1])(*to_bits(i, l1)) for i in range(m1)])\n",
    "r1_expansion = vector([eq(rs[l1:])(*to_bits(i, l0)) for i in range(m0)])\n",
    "print(r0_expansion, r1_expansion)\n",
    "t_prime = r1_expansion * t\n",
    "t_prime"
   ]
  },
  {
   "cell_type": "markdown",
   "id": "13db775e-c0a4-4498-8c1f-c5fb53d59971",
   "metadata": {},
   "source": [
    "### Verify"
   ]
  },
  {
   "cell_type": "markdown",
   "id": "4cc41f6b-9437-47d6-9c63-8fc8874a1f94",
   "metadata": {},
   "source": [
    "Now we reinterpret t_prime in the same way as `ExtensionCode`: as a vector of a higher extension, that is recombined with the extension generator"
   ]
  },
  {
   "cell_type": "code",
   "execution_count": 21,
   "id": "fbde4d44-5ca7-4bdd-b1c7-c6f194c40905",
   "metadata": {},
   "outputs": [],
   "source": [
    "assert t_prime * r0_expansion == s\n",
    "for j in [randint(0, 2^l - 1) for _ in range(10)]:\n",
    "    # todo: merkle check u.column(j)\n",
    "    u_prime_0 = vector([x for x in t_prime[::2]])\n",
    "    u_prime_1 = vector([x for x in t_prime[1::2]])\n",
    "    assert r1_expansion * u.column(j) == C(u_prime_0)[j] + z * C(u_prime_1)[j]"
   ]
  },
  {
   "cell_type": "code",
   "execution_count": null,
   "id": "e076a3e5-fb5b-4b88-a0c6-bd0a31060b03",
   "metadata": {},
   "outputs": [],
   "source": []
  }
 ],
 "metadata": {
  "kernelspec": {
   "display_name": "SageMath 10.1",
   "language": "sage",
   "name": "sagemath-10.1"
  },
  "language_info": {
   "codemirror_mode": {
    "name": "ipython",
    "version": 3
   },
   "file_extension": ".py",
   "mimetype": "text/x-python",
   "name": "python",
   "nbconvert_exporter": "python",
   "pygments_lexer": "ipython3",
   "version": "3.11.1"
  }
 },
 "nbformat": 4,
 "nbformat_minor": 5
}
