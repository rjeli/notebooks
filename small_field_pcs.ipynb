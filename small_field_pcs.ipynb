{
 "cells": [
  {
   "cell_type": "code",
   "execution_count": 1,
   "id": "70a419f3-a693-4e32-9624-773bff7bb5b3",
   "metadata": {},
   "outputs": [],
   "source": [
    "load('utils.sage') # log2_strict, two_adic_*"
   ]
  },
  {
   "cell_type": "markdown",
   "id": "81e0ec6b-2a8f-4e46-9ca8-cd004e16828e",
   "metadata": {},
   "source": [
    "We are working over GF(17), so RS codes will only work for block sizes <=17."
   ]
  },
  {
   "cell_type": "code",
   "execution_count": 2,
   "id": "4e34c49d-31cb-4af5-8c41-1cd1845226f2",
   "metadata": {},
   "outputs": [
    {
     "data": {
      "text/plain": [
       "(Finite Field of size 17, Finite Field in z of size 17^2)"
      ]
     },
     "execution_count": 2,
     "metadata": {},
     "output_type": "execute_result"
    }
   ],
   "source": [
    "F = GF(17)\n",
    "R.<X> = F[]\n",
    "EF.<z> = F.extension(X^2 - 3)\n",
    "F, EF"
   ]
  },
  {
   "cell_type": "code",
   "execution_count": 3,
   "id": "4814d5d3-b1a7-4a51-8d9c-838933870828",
   "metadata": {},
   "outputs": [],
   "source": [
    "def to_bits(x, n_bits):\n",
    "    for i in range(n_bits):\n",
    "        yield (x >> i) & 1\n",
    "def eq(ys, R=None):\n",
    "    ys = list(ys)\n",
    "    if R is None:\n",
    "        R = PolynomialRing(ys[0].parent(), len(ys), 'x')\n",
    "    return product(\n",
    "        x*y + (1 - x)*(1 - y)\n",
    "        for x, y in zip(R.gens(), ys)\n",
    "    )\n",
    "def mle(evals):\n",
    "    n_bits = log2_strict(len(evals))\n",
    "    return sum(eq(to_bits(i, n_bits))*evals[i] for i in range(2^n_bits))"
   ]
  },
  {
   "cell_type": "markdown",
   "id": "f1009f3d-602d-4b90-bf58-512440293eb7",
   "metadata": {},
   "source": [
    "# Basic Small-Field Construction\n",
    "> (..) we allow the polynomial’s coefficient field and the code’s alphabet to be sub-cryptographically sized, though we require that these fields be equal to each other."
   ]
  },
  {
   "cell_type": "code",
   "execution_count": 4,
   "id": "caa15bbd-ad3f-485e-980f-c279dac490fc",
   "metadata": {},
   "outputs": [],
   "source": [
    "def ExtensionCode(f, n, k):\n",
    "    rs = codes.ReedSolomonCode(f, n, k)\n",
    "    def encode(v):\n",
    "        d = v.base_ring().degree()\n",
    "        if d == 1:\n",
    "            return rs.encode(v)\n",
    "        else:\n",
    "            codewords = [rs.encode(vector([x[i] for x in v])) for i in range(d)]\n",
    "            return vector([v.base_ring()(list(xs)) for xs in zip(*codewords)])\n",
    "    return encode"
   ]
  },
  {
   "cell_type": "code",
   "execution_count": 5,
   "id": "13d9eb9b-65ea-436b-b772-1b67649ba1fb",
   "metadata": {},
   "outputs": [],
   "source": [
    "l0, l1 = (1, 3)\n",
    "l = l0 + l1\n",
    "m0, m1 = 2^l0, 2^l1\n",
    "C = ExtensionCode(F, 2^l, m1)"
   ]
  },
  {
   "cell_type": "code",
   "execution_count": 6,
   "id": "c710dd11-1b69-4b7f-accf-969b57583367",
   "metadata": {},
   "outputs": [
    {
     "data": {
      "text/plain": [
       "[3, 16, 1, 0, 10, 16, 5, 16, 2, 5, 14, 2, 8, 4, 4, 6]"
      ]
     },
     "execution_count": 6,
     "metadata": {},
     "output_type": "execute_result"
    }
   ],
   "source": [
    "with seed(0):\n",
    "    evals = [F.random_element() for _ in range(2^l)]\n",
    "evals"
   ]
  },
  {
   "cell_type": "code",
   "execution_count": 7,
   "id": "0846e94f-bbd6-467f-a29f-0db43c784498",
   "metadata": {},
   "outputs": [
    {
     "data": {
      "text/plain": [
       "[3, 16, 1, 0, 10, 16, 5, 16, 2, 5, 14, 2, 8, 4, 4, 6]"
      ]
     },
     "execution_count": 7,
     "metadata": {},
     "output_type": "execute_result"
    }
   ],
   "source": [
    "[mle(evals)(*to_bits(i, 4)) for i in range(16)]"
   ]
  },
  {
   "cell_type": "markdown",
   "id": "7143151b-32c1-4bb6-9386-8599e13e0ff3",
   "metadata": {},
   "source": [
    "### Commit to `evals`"
   ]
  },
  {
   "cell_type": "code",
   "execution_count": 8,
   "id": "e8b68268-015f-4fe2-92f8-8e28033ce619",
   "metadata": {},
   "outputs": [
    {
     "data": {
      "text/plain": [
       "[ 3 16  1  0 10 16  5 16]\n",
       "[ 2  5 14  2  8  4  4  6]"
      ]
     },
     "execution_count": 8,
     "metadata": {},
     "output_type": "execute_result"
    }
   ],
   "source": [
    "t = matrix(m0, m1, evals); t"
   ]
  },
  {
   "cell_type": "code",
   "execution_count": 9,
   "id": "056ac50b-1c38-4a14-82c4-72274c9814cf",
   "metadata": {},
   "outputs": [
    {
     "data": {
      "text/plain": [
       "[16 11  7 14 11  3  3 10  5 15 11  5  3 10  2  7]\n",
       "[11  5  5  4  5  5 13 13 11  1  5 12 13  5  4  5]"
      ]
     },
     "execution_count": 9,
     "metadata": {},
     "output_type": "execute_result"
    }
   ],
   "source": [
    "u = matrix([C(row) for row in t]); u"
   ]
  },
  {
   "cell_type": "code",
   "execution_count": 10,
   "id": "662cbb70-a5d8-4e97-a020-3f40621a9c66",
   "metadata": {},
   "outputs": [],
   "source": [
    "# todo: merkle commit u"
   ]
  },
  {
   "cell_type": "markdown",
   "id": "c233b585-a8cc-43e2-8f71-6c19ba0cf1aa",
   "metadata": {},
   "source": [
    "### Open `evals` at `r` = `s`"
   ]
  },
  {
   "cell_type": "code",
   "execution_count": 11,
   "id": "19d845f6-0af9-4ec4-883f-c04109fdaea3",
   "metadata": {},
   "outputs": [
    {
     "data": {
      "text/plain": [
       "([2*z + 11, z + 11, 3*z, 8*z + 10], 11)"
      ]
     },
     "execution_count": 11,
     "metadata": {},
     "output_type": "execute_result"
    }
   ],
   "source": [
    "with seed(1):\n",
    "    rs = [EF.random_element() for _ in range(l)]\n",
    "s = mle(evals)(*rs); s\n",
    "rs, s"
   ]
  },
  {
   "cell_type": "code",
   "execution_count": 12,
   "id": "0b94b5a1-28fb-4ece-a2eb-5eedc52e5dbf",
   "metadata": {},
   "outputs": [
    {
     "name": "stdout",
     "output_type": "stream",
     "text": [
      "(z + 6, 11*z + 10, 10*z + 2, 9*z, 12*z + 15, 9*z + 10, 9*z + 1, 7*z + 8) (9*z + 8, 8*z + 10)\n"
     ]
    },
    {
     "data": {
      "text/plain": [
       "(9*z + 10, 14*z + 8, 2*z + 12, 16*z + 3, z + 7, 6*z + 15, 9*z + 12, 5*z + 1)"
      ]
     },
     "execution_count": 12,
     "metadata": {},
     "output_type": "execute_result"
    }
   ],
   "source": [
    "r0_expansion = vector([eq(rs[:l1])(*to_bits(i, l1)) for i in range(m1)])\n",
    "r1_expansion = vector([eq(rs[l1:])(*to_bits(i, l0)) for i in range(m0)])\n",
    "print(r0_expansion, r1_expansion)\n",
    "t_prime = r1_expansion * t\n",
    "t_prime"
   ]
  },
  {
   "cell_type": "markdown",
   "id": "4003c1ab-a90c-42ee-a12d-ca5066bdd2a6",
   "metadata": {},
   "source": [
    "### Verify"
   ]
  },
  {
   "cell_type": "code",
   "execution_count": 13,
   "id": "4f8e32f1-e4d1-4f27-b5f3-f71dd0dd3e57",
   "metadata": {},
   "outputs": [],
   "source": [
    "assert t_prime * r0_expansion == s\n",
    "for j in [randint(0, 2^l - 1) for _ in range(5)]:\n",
    "    # todo: merkle check u.column(j)\n",
    "    assert r1_expansion * u.column(j) == C(t_prime)[j]"
   ]
  },
  {
   "cell_type": "code",
   "execution_count": 14,
   "id": "2d74a1b7-18eb-4622-ba0d-73902b704d69",
   "metadata": {},
   "outputs": [
    {
     "name": "stdout",
     "output_type": "stream",
     "text": [
      "proof size: 1 merkle root + (16 + queries * 2) base field elements\n"
     ]
    }
   ],
   "source": [
    "print(f'proof size: 1 merkle root + ({len(t_prime)*2} + queries * {u.nrows()}) base field elements')"
   ]
  },
  {
   "cell_type": "markdown",
   "id": "bc187d21-54ea-45c1-8307-6383774ed6ec",
   "metadata": {},
   "source": [
    "# Block-Level Encoding\n",
    "> (..) suitable for polynomials over fields smaller than the alphabet of the linear block code selected for use."
   ]
  },
  {
   "cell_type": "code",
   "execution_count": 24,
   "id": "45e02507-28e8-42ad-8891-80ef6b3c32cd",
   "metadata": {},
   "outputs": [],
   "source": [
    "def PackedCode(ef, n, k):\n",
    "    d = ef.degree()\n",
    "    assert n % d == 0 and k % d == 0\n",
    "    rs = codes.ReedSolomonCode(ef, n//d, k//d)\n",
    "    print(rs)\n",
    "    def encode(v):\n",
    "        if v.base_ring() is ef:\n",
    "            return rs.encode(v)\n",
    "        else:\n",
    "            assert v.base_ring() is ef.base_ring() and len(v) % d == 0\n",
    "            packed = vector([ef(v[i:i+d]) for i in range(0, len(v), d)])\n",
    "            return rs.encode(packed)\n",
    "    return encode"
   ]
  },
  {
   "cell_type": "code",
   "execution_count": 25,
   "id": "5bbb952e-5890-4516-9db7-14717cf2bc7b",
   "metadata": {},
   "outputs": [
    {
     "name": "stdout",
     "output_type": "stream",
     "text": [
      "[8, 4, 5] Reed-Solomon Code over GF(289)\n"
     ]
    },
    {
     "data": {
      "text/plain": [
       "(4, 8, 16)"
      ]
     },
     "execution_count": 25,
     "metadata": {},
     "output_type": "execute_result"
    }
   ],
   "source": [
    "# since our trace length is 2^5 = 32, we would not be able to apply a code in GF(17)\n",
    "l0, l1 = (2, 3)\n",
    "rate_bits = 1\n",
    "\n",
    "l = l0 + l1\n",
    "m0, m1 = 2^l0, 2^l1\n",
    "n = m1 << rate_bits\n",
    "C = PackedCode(EF, n, m1)\n",
    "m0, m1, n"
   ]
  },
  {
   "cell_type": "code",
   "execution_count": 26,
   "id": "7e0d593c-6541-4946-bec6-2c090713e9c5",
   "metadata": {},
   "outputs": [
    {
     "name": "stdout",
     "output_type": "stream",
     "text": [
      "[3, 16, 1, 0, 10, 16, 5, 16, 2, 5, 14, 2, 8, 4, 4, 6, 0, 4, 15, 15, 10, 12, 13, 6, 13, 7, 1, 9, 1, 15, 12, 8]\n"
     ]
    }
   ],
   "source": [
    "with seed(0):\n",
    "    evals = [F.random_element() for _ in range(2^l)]\n",
    "print(evals)"
   ]
  },
  {
   "cell_type": "markdown",
   "id": "466fc01a-eb22-44e5-9bc2-b13539ab15de",
   "metadata": {},
   "source": [
    "### Commit"
   ]
  },
  {
   "cell_type": "code",
   "execution_count": 27,
   "id": "8b2d86ee-06db-4c24-b4f4-e9fab60cd000",
   "metadata": {},
   "outputs": [
    {
     "name": "stdout",
     "output_type": "stream",
     "text": [
      "[ 3 16  1  0 10 16  5 16]\n",
      "[ 2  5 14  2  8  4  4  6]\n",
      "[ 0  4 15 15 10 12 13  6]\n",
      "[13  7  1  9  1 15 12  8]\n"
     ]
    }
   ],
   "source": [
    "t = matrix(m0, m1, evals); print(t)\n",
    "assert (t.nrows(), t.ncols()) == (m0, m1)"
   ]
  },
  {
   "cell_type": "code",
   "execution_count": 28,
   "id": "d913129e-1548-4665-b83c-df4337146d79",
   "metadata": {},
   "outputs": [
    {
     "name": "stdout",
     "output_type": "stream",
     "text": [
      "[ 14*z + 2  5*z + 13  13*z + 9   3*z + 1  16*z + 7    z + 15  4*z + 11       4*z]\n",
      "[       11  12*z + 3         5   3*z + 8     z + 9         5       2*z   5*z + 9]\n",
      "[  3*z + 4  11*z + 1  7*z + 16   8*z + 8 12*z + 16   3*z + 4 11*z + 15  11*z + 4]\n",
      "[ 5*z + 10 12*z + 11   5*z + 5   2*z + 4   5*z + 1     z + 7  13*z + 2 13*z + 13]\n"
     ]
    }
   ],
   "source": [
    "u = matrix([C(row) for row in t]); print(u)\n",
    "assert (u.nrows(), u.ncols()) == (m0, n//EF.degree())\n",
    "# todo: merkle commit u"
   ]
  },
  {
   "cell_type": "markdown",
   "id": "93ec511b-1835-4612-92ea-0d8cbcc0e41b",
   "metadata": {},
   "source": [
    "### Open"
   ]
  },
  {
   "cell_type": "code",
   "execution_count": 29,
   "id": "0411d1fa-cb3d-49da-a298-a7d2e0d0e9e5",
   "metadata": {},
   "outputs": [
    {
     "data": {
      "text/plain": [
       "([2*z + 11, z + 11, 3*z, 8*z + 10, 16*z + 3], 2*z + 3)"
      ]
     },
     "execution_count": 29,
     "metadata": {},
     "output_type": "execute_result"
    }
   ],
   "source": [
    "with seed(1):\n",
    "    rs = [EF.random_element() for _ in range(l)]\n",
    "s = mle(evals)(*rs); s\n",
    "rs, s"
   ]
  },
  {
   "cell_type": "markdown",
   "id": "710d63ad-1a08-4f29-812b-bba618797835",
   "metadata": {},
   "source": [
    ">  P computes the matrix–vector product t' := ⊗_{i=l1..l-1} (1 − r_i, r_i) · t, here interpreting the\n",
    "> matrix t as an unpacked, m0 × m1 matrix with entries in Tι. P sends V t' in the clear."
   ]
  },
  {
   "cell_type": "code",
   "execution_count": 30,
   "id": "99c2d7df-6f4f-4161-ab8c-27381065938d",
   "metadata": {},
   "outputs": [
    {
     "name": "stdout",
     "output_type": "stream",
     "text": [
      "(z + 6, 11*z + 10, 10*z + 2, 9*z, 12*z + 15, 9*z + 10, 9*z + 1, 7*z + 8) (7*z + 11, 11*z + 4, 2*z + 14, 14*z + 6)\n"
     ]
    },
    {
     "data": {
      "text/plain": [
       "(4*z, z + 5, z + 11, 8*z, 5*z + 16, 16*z + 8, z + 2, 13*z + 9)"
      ]
     },
     "execution_count": 30,
     "metadata": {},
     "output_type": "execute_result"
    }
   ],
   "source": [
    "r0_expansion = vector([eq(rs[:l1])(*to_bits(i, l1)) for i in range(m1)])\n",
    "r1_expansion = vector([eq(rs[l1:])(*to_bits(i, l0)) for i in range(m0)])\n",
    "print(r0_expansion, r1_expansion)\n",
    "t_prime = r1_expansion * t\n",
    "t_prime"
   ]
  },
  {
   "cell_type": "markdown",
   "id": "13db775e-c0a4-4498-8c1f-c5fb53d59971",
   "metadata": {},
   "source": [
    "### Verify"
   ]
  },
  {
   "cell_type": "markdown",
   "id": "4cc41f6b-9437-47d6-9c63-8fc8874a1f94",
   "metadata": {},
   "source": [
    "Now we reinterpret t_prime in the same way as `ExtensionCode`: as a vector of a higher extension, that is recombined with the extension generator"
   ]
  },
  {
   "cell_type": "code",
   "execution_count": 33,
   "id": "fbde4d44-5ca7-4bdd-b1c7-c6f194c40905",
   "metadata": {},
   "outputs": [],
   "source": [
    "assert t_prime * r0_expansion == s\n",
    "for j in [randint(0, n//EF.degree()) for _ in range(10)]:\n",
    "    # todo: merkle check u.column(j)\n",
    "    assert r1_expansion * u.column(j) == C(t_prime[::2])[j] + z * C(t_prime[1::2])[j]"
   ]
  },
  {
   "cell_type": "code",
   "execution_count": 34,
   "id": "e076a3e5-fb5b-4b88-a0c6-bd0a31060b03",
   "metadata": {},
   "outputs": [
    {
     "name": "stdout",
     "output_type": "stream",
     "text": [
      "proof size: 1 merkle root + (16 + queries * 8) base field elements\n"
     ]
    }
   ],
   "source": [
    "print(f'proof size: 1 merkle root + ({len(t_prime)*2} + queries * {2*u.nrows()}) base field elements')"
   ]
  },
  {
   "cell_type": "code",
   "execution_count": null,
   "id": "9c46a375-f570-4f42-a63e-11d067d7f722",
   "metadata": {},
   "outputs": [],
   "source": [
    "n//EF."
   ]
  },
  {
   "cell_type": "markdown",
   "id": "98bb67b3-23d6-4a72-9188-7a98d54d9a3f",
   "metadata": {},
   "source": [
    "# FRI (incomplete)"
   ]
  },
  {
   "cell_type": "code",
   "execution_count": 27,
   "id": "5e30da1f-cd09-40ee-b6e2-c3351633da73",
   "metadata": {},
   "outputs": [
    {
     "name": "stdout",
     "output_type": "stream",
     "text": [
      "[16, 8, 9] Reed-Solomon Code over GF(83521)\n"
     ]
    }
   ],
   "source": [
    "C = PackedCode(EF, n*2//EF.degree(), n)"
   ]
  },
  {
   "cell_type": "markdown",
   "id": "c99c01e7-2eed-429c-8228-a6d6f978f4e5",
   "metadata": {},
   "source": [
    "### normal fri:"
   ]
  },
  {
   "cell_type": "code",
   "execution_count": 117,
   "id": "86c6e888-e4eb-4bfd-a2bd-58d81c0a97c2",
   "metadata": {},
   "outputs": [],
   "source": [
    "EF.<z> = F.extension(X^4 + 3)\n",
    "n_bits = 3\n",
    "n = 2^n_bits"
   ]
  },
  {
   "cell_type": "code",
   "execution_count": 118,
   "id": "7328e1f3-1aa4-433c-aeaf-a1f26562ab12",
   "metadata": {},
   "outputs": [
    {
     "data": {
      "text/plain": [
       "[3, 16, 1, 0, 10, 16, 5, 16]"
      ]
     },
     "execution_count": 118,
     "metadata": {},
     "output_type": "execute_result"
    }
   ],
   "source": [
    "with seed(0):\n",
    "    evals = [F.random_element() for _ in range(n)]\n",
    "evals"
   ]
  },
  {
   "cell_type": "code",
   "execution_count": 119,
   "id": "41c5d633-7a5c-47c6-95b9-a143e651bd8e",
   "metadata": {},
   "outputs": [
    {
     "data": {
      "text/plain": [
       "3*X^7 + 12*X^6 + 11*X^5 + 7*X^4 + 12*X^3 + 11*X^2 + 13*X + 2"
      ]
     },
     "execution_count": 119,
     "metadata": {},
     "output_type": "execute_result"
    }
   ],
   "source": [
    "trace_sg = two_adic_subgroup(F, n_bits)\n",
    "poly = R.lagrange_polynomial(zip(trace_sg, evals)); poly"
   ]
  },
  {
   "cell_type": "code",
   "execution_count": 120,
   "id": "ce6f5f49-9674-4007-9de6-96927e40ae78",
   "metadata": {},
   "outputs": [
    {
     "data": {
      "text/plain": [
       "[7, 16, 2, 1, 16, 0, 11, 10, 6, 16, 9, 5, 3, 16, 13, 3]"
      ]
     },
     "execution_count": 120,
     "metadata": {},
     "output_type": "execute_result"
    }
   ],
   "source": [
    "lde_sg = two_adic_subgroup(F, n_bits+1, shift=F.multiplicative_generator())\n",
    "lde = [poly(x) for x in lde_sg]; lde"
   ]
  },
  {
   "cell_type": "code",
   "execution_count": 121,
   "id": "a91ce5f5-71d0-44e7-ac63-2ae0f8f82b6a",
   "metadata": {},
   "outputs": [
    {
     "data": {
      "text/plain": [
       "7"
      ]
     },
     "execution_count": 121,
     "metadata": {},
     "output_type": "execute_result"
    }
   ],
   "source": [
    "R.lagrange_polynomial(zip(lde_sg, lde)).degree()"
   ]
  },
  {
   "cell_type": "code",
   "execution_count": 127,
   "id": "0aa6abfa-cb31-4848-a972-fb91c326b8e3",
   "metadata": {},
   "outputs": [
    {
     "data": {
      "text/plain": [
       "(6*z^3 + 15*z^2 + 14*z + 12, 10*z^3 + 5*z^2 + 15*z + 15)"
      ]
     },
     "execution_count": 127,
     "metadata": {},
     "output_type": "execute_result"
    }
   ],
   "source": [
    "# DEEP query at p(zeta)\n",
    "with seed(10):\n",
    "    zeta = EF.random_element()\n",
    "zeta, poly(zeta)"
   ]
  },
  {
   "cell_type": "code",
   "execution_count": 128,
   "id": "e62509df-3d1e-4e8a-ad83-a7a7918e0fc6",
   "metadata": {},
   "outputs": [
    {
     "data": {
      "text/plain": [
       "6"
      ]
     },
     "execution_count": 128,
     "metadata": {},
     "output_type": "execute_result"
    }
   ],
   "source": [
    "# correct:\n",
    "quotient = [\n",
    "    (y - poly(zeta)) / (x - zeta)\n",
    "    for x, y in zip(lde_sg, lde)\n",
    "]\n",
    "PolynomialRing(EF, 'x').lagrange_polynomial(zip(lde_sg, quotient)).degree()\n",
    "# good degree"
   ]
  },
  {
   "cell_type": "code",
   "execution_count": 129,
   "id": "b0020e03-730f-4b7c-9545-27cf22e8d98c",
   "metadata": {},
   "outputs": [
    {
     "data": {
      "text/plain": [
       "15"
      ]
     },
     "execution_count": 129,
     "metadata": {},
     "output_type": "execute_result"
    }
   ],
   "source": [
    "quotient = [     #  | wrong\n",
    "                 #  v \n",
    "    (y - poly(zeta) + 1) / (x - zeta)\n",
    "    for x, y in zip(lde_sg, lde)\n",
    "]\n",
    "PolynomialRing(EF, 'x').lagrange_polynomial(zip(lde_sg, quotient)).degree()\n",
    "# bad degree"
   ]
  },
  {
   "cell_type": "markdown",
   "id": "6f3bff0e-6a2d-48db-b781-8970955aa36c",
   "metadata": {},
   "source": [
    "### Packed FRI"
   ]
  },
  {
   "cell_type": "markdown",
   "id": "d37cb911-4ad8-4840-ab24-a705fcfb5d9e",
   "metadata": {},
   "source": [
    "**Setup**\n",
    "- Trace $t \\in \\mathbb{F}^{n \\cdot c}$\n",
    "- Rate $\\rho \\in \\{2,4,..\\}$\n",
    "- Domain extension $\\mathbb{E} = \\mathbb{F}[X]/(X^d+..)$ with a subgroup $D$ where $|D| = \\rho \\cdot n$ and $d$ divides $c$\n",
    "- Challenge extension $\\mathbb{L}$ over $\\mathbb{E}$\n",
    "\n",
    "**Commit**\n",
    "- $\\mathcal{P}$ encodes the columns of $t$ onto $D$ to get the LDE matrix $u \\in \\mathbb{E}^{\\rho \\cdot n \\times c}$\n",
    "- $\\mathcal{P}$ reinterprets each row of $u$ as $c/d$ chunks of $d$ elements (in $\\mathbb{E}$), then reduces each chunk $\\sum_{i=0}^{d-1} z^i \\cdot x_i$, where $z$ is the root of the irreducible poly of $\\mathbb{E}$, to get $\\hat{u} \\in \\mathbb{E}^{\\rho \\cdot n \\times c / d}$, and sends $\\mathcal{V}$ a merkle commitment to $\\hat{u}$.\n",
    "\n",
    "**Prove**\n",
    "- $\\mathcal{V}$ sends opening point $x \\in \\mathbb{L}$ and column combining challenge $\\alpha \\in \\mathbb{L}$\n",
    "- Considering the polynomials $p_1(x),...,p_c(x)$ that interpolate the columns of $t$, $\\mathcal{P}$ wants to show that $p_1(x)=y_1,...$.\n",
    "    Equivalently, $\\mathcal{P}$ will show $g(X) = \\sum_{i}^{c} \\alpha^i \\cdot \\frac{p_i(X) - y_i}{X - x}$ is low-degree.\n",
    "- $\\mathcal{P}$ evaluates $p_1(x)=y_1,...$ and sends to $\\mathcal{V}$\n",
    "- $\\mathcal{P} and \\mathcal{V}$ engage in batched FRI on $g(X)$, with the following modification:\n",
    "  - At each FRI query point $q \\in \\mathbb{E}$, in \"round 0\"\n",
    "    - Considering $p$ as a vector of polynomials, $\\mathcal{V}$ interprets it as $c/d$ chunks, and "
   ]
  },
  {
   "cell_type": "code",
   "execution_count": 134,
   "id": "1827a813-8e22-4578-ba15-b8e9e30b16d8",
   "metadata": {},
   "outputs": [],
   "source": [
    "def dft(polys, sg):\n",
    "    return matrix([[p(x) for x in sg] for p in polys]).T\n",
    "def idft(m, sg):\n",
    "    r = PolynomialRing(sg[0].parent(), 'x')\n",
    "    return [r.lagrange_polynomial(zip(sg, col)) for col in m.columns()]"
   ]
  },
  {
   "cell_type": "code",
   "execution_count": 138,
   "id": "a199d96f-54e1-4d5c-b8b8-2964d5f6708c",
   "metadata": {},
   "outputs": [
    {
     "name": "stdout",
     "output_type": "stream",
     "text": [
      "(32, 8) Finite Field of size 17\n"
     ]
    },
    {
     "data": {
      "text/plain": [
       "[ 2 14  0 15 11 10 16  2]\n",
       "[ 9  4 10 14  1 14  3 14]\n",
       "[12 14  3 13 10  1 14  6]\n",
       "[ 2 14 13  7  6 14 10  3]"
      ]
     },
     "execution_count": 138,
     "metadata": {},
     "output_type": "execute_result"
    }
   ],
   "source": [
    "n_bits = 5\n",
    "n = 2^n_bits\n",
    "with seed(0):\n",
    "    evals = matrix.random(F, n, 8)\n",
    "print(evals.dimensions(), evals.base_ring())\n",
    "evals[:4]"
   ]
  },
  {
   "cell_type": "code",
   "execution_count": 139,
   "id": "6b45ee16-bfcd-4d2d-99bc-0855a7db0846",
   "metadata": {},
   "outputs": [
    {
     "name": "stdout",
     "output_type": "stream",
     "text": [
      "(64, 8) Finite Field in z of size 17^4\n"
     ]
    },
    {
     "data": {
      "text/plain": [
       "[ 15*z^3 + 13*z^2 + 6*z + 8       8*z^3 + 10*z^2 + 3*z  6*z^3 + 14*z^2 + 3*z + 11         12*z^3 + 15*z + 12    4*z^3 + 3*z^2 + 3*z + 3   4*z^3 + 9*z^2 + 13*z + 9   4*z^3 + 2*z^2 + 13*z + 9     z^3 + 11*z^2 + 5*z + 4]\n",
       "[ 3*z^3 + 11*z^2 + 16*z + 1  12*z^3 + 3*z^2 + 3*z + 10   8*z^3 + 8*z^2 + 12*z + 6  2*z^3 + 16*z^2 + 5*z + 10  10*z^3 + 7*z^2 + 11*z + 3        16*z^3 + 16*z^2 + 8         7*z^3 + 7*z^2 + 10   9*z^3 + 15*z^2 + 5*z + 6]\n",
       "[9*z^3 + 13*z^2 + 15*z + 12 10*z^3 + 10*z^2 + 2*z + 14      z^3 + 12*z^2 + z + 15  12*z^3 + 7*z^2 + 3*z + 11           8*z^2 + 12*z + 9           9*z^2 + 4*z + 10 11*z^3 + 3*z^2 + 14*z + 15  9*z^3 + 9*z^2 + 15*z + 13]\n",
       "[ 6*z^3 + 9*z^2 + 10*z + 15     z^3 + 2*z^2 + 3*z + 10  15*z^3 + 9*z^2 + 9*z + 11     11*z^3 + z^2 + 2*z + 2        13*z^3 + 5*z^2 + 16    7*z^3 + 7*z^2 + 5*z + 3    9*z^3 + 8*z^2 + 3*z + 8    3*z^3 + 6*z^2 + 4*z + 6]"
      ]
     },
     "execution_count": 139,
     "metadata": {},
     "output_type": "execute_result"
    }
   ],
   "source": [
    "trace_sg = two_adic_subgroup(EF, n_bits)\n",
    "lde_sg = two_adic_subgroup(EF, n_bits+1, shift=EF.multiplicative_generator())\n",
    "lde = dft(idft(evals, trace_sg), lde_sg)\n",
    "print(lde.dimensions(), lde.base_ring())\n",
    "lde[:4]"
   ]
  },
  {
   "cell_type": "code",
   "execution_count": 140,
   "id": "75f90bf5-f6b2-49f5-a1a5-7da93b294080",
   "metadata": {},
   "outputs": [
    {
     "name": "stdout",
     "output_type": "stream",
     "text": [
      "(32, 2) Finite Field in z of size 17^4\n"
     ]
    },
    {
     "data": {
      "text/plain": [
       "[         15*z^3 + 14*z + 2 2*z^3 + 16*z^2 + 10*z + 11]\n",
       "[ 14*z^3 + 10*z^2 + 4*z + 9  14*z^3 + 3*z^2 + 14*z + 1]\n",
       "[13*z^3 + 3*z^2 + 14*z + 12    6*z^3 + 14*z^2 + z + 10]\n",
       "[ 7*z^3 + 13*z^2 + 14*z + 2  3*z^3 + 10*z^2 + 14*z + 6]"
      ]
     },
     "execution_count": 140,
     "metadata": {},
     "output_type": "execute_result"
    }
   ],
   "source": [
    "packed_evals = matrix(EF, [\n",
    "    [EF(row[i:i+d]) for i in range(0, evals.ncols(), d)]\n",
    "    for row in evals.rows()\n",
    "])\n",
    "print(packed_evals.dimensions(), packed_evals.base_ring())\n",
    "packed_evals[:4]"
   ]
  },
  {
   "cell_type": "code",
   "execution_count": 141,
   "id": "d8a64da5-b752-4d3f-b9fa-60fe781c32a5",
   "metadata": {},
   "outputs": [
    {
     "data": {
      "text/plain": [
       "[  6*z^3 + 8*z^2 + 5*z + 16     13*z^3 + 5*z^2 + z + 4]\n",
       "[11*z^3 + 14*z^2 + 5*z + 11   15*z^3 + 7*z^2 + 4*z + 4]\n",
       "[ 14*z^3 + 11*z^2 + 5*z + 5           2*z^3 + 13*z + 6]\n",
       "[  2*z^3 + 7*z^2 + 6*z + 13  12*z^3 + 9*z^2 + 9*z + 10]"
      ]
     },
     "execution_count": 141,
     "metadata": {},
     "output_type": "execute_result"
    }
   ],
   "source": [
    "packed_lde = dft(idft(packed_evals, trace_sg), lde_sg)\n",
    "packed_lde[:4]"
   ]
  },
  {
   "cell_type": "markdown",
   "id": "4b72ff07-056b-489f-892b-b2eab35db1fa",
   "metadata": {},
   "source": [
    "Because the code is linear, the packed LDE is a linear combination of the unpacked LDE with powers of the extension ideal."
   ]
  },
  {
   "cell_type": "code",
   "execution_count": 145,
   "id": "59d76ad4-3d92-4fe5-b82b-8dae7ca2e13d",
   "metadata": {},
   "outputs": [],
   "source": [
    "assert lde[0,0] + z * lde[0,1] + z^2 * lde[0,2] + z^3 * lde[0,3] == packed_lde[0,0]"
   ]
  },
  {
   "cell_type": "code",
   "execution_count": 146,
   "id": "cc06bbfd-a9d0-4d63-a76e-ea1566a8f40d",
   "metadata": {},
   "outputs": [],
   "source": [
    "# DEEP query at p(zeta)\n",
    "with seed(10):\n",
    "    zeta = EF.random_element()"
   ]
  },
  {
   "cell_type": "code",
   "execution_count": 147,
   "id": "2a6b1f1b-655d-4816-8c8b-6ad1ff6cd942",
   "metadata": {},
   "outputs": [
    {
     "data": {
      "text/plain": [
       "[2*z^3 + 6*z^2 + 7*z + 3,\n",
       " 9*z^3 + 13*z^2 + 13*z + 13,\n",
       " 13*z^3 + 11*z^2 + 13*z + 2,\n",
       " 4*z^3 + 15*z^2 + 11*z + 2,\n",
       " 5*z^3 + 13*z^2 + 16,\n",
       " 5*z^3 + 6*z^2 + 12*z + 2,\n",
       " z^3 + 12*z^2 + 7*z + 2,\n",
       " 12*z^3 + z^2 + 4]"
      ]
     },
     "execution_count": 147,
     "metadata": {},
     "output_type": "execute_result"
    }
   ],
   "source": [
    "# Evaluate each (unpacked) poly at zeta\n",
    "polys = idft(evals, trace_sg)\n",
    "p_zeta = [p(zeta) for p in polys]\n",
    "p_zeta"
   ]
  },
  {
   "cell_type": "code",
   "execution_count": 148,
   "id": "e43ddddd-80c5-437b-8934-b838f5a5a8dc",
   "metadata": {},
   "outputs": [
    {
     "ename": "TypeError",
     "evalue": "unsupported operand parent(s) for -: 'Vector space of dimension 8 over Finite Field in z of size 17^4' and 'Finite Field in z of size 17^4'",
     "output_type": "error",
     "traceback": [
      "\u001b[0;31m---------------------------------------------------------------------------\u001b[0m",
      "\u001b[0;31mTypeError\u001b[0m                                 Traceback (most recent call last)",
      "Cell \u001b[0;32mIn [148], line 1\u001b[0m\n\u001b[0;32m----> 1\u001b[0m quotient \u001b[38;5;241m=\u001b[39m \u001b[43m[\u001b[49m\n\u001b[1;32m      2\u001b[0m \u001b[43m    \u001b[49m\u001b[43m(\u001b[49m\u001b[43my\u001b[49m\u001b[43m \u001b[49m\u001b[38;5;241;43m-\u001b[39;49m\u001b[43m \u001b[49m\u001b[43mpoly\u001b[49m\u001b[43m(\u001b[49m\u001b[43mzeta\u001b[49m\u001b[43m)\u001b[49m\u001b[43m)\u001b[49m\u001b[43m \u001b[49m\u001b[38;5;241;43m/\u001b[39;49m\u001b[43m \u001b[49m\u001b[43m(\u001b[49m\u001b[43mx\u001b[49m\u001b[43m \u001b[49m\u001b[38;5;241;43m-\u001b[39;49m\u001b[43m \u001b[49m\u001b[43mzeta\u001b[49m\u001b[43m)\u001b[49m\n\u001b[1;32m      3\u001b[0m \u001b[43m    \u001b[49m\u001b[38;5;28;43;01mfor\u001b[39;49;00m\u001b[43m \u001b[49m\u001b[43mx\u001b[49m\u001b[43m,\u001b[49m\u001b[43m \u001b[49m\u001b[43my\u001b[49m\u001b[43m \u001b[49m\u001b[38;5;129;43;01min\u001b[39;49;00m\u001b[43m \u001b[49m\u001b[38;5;28;43mzip\u001b[39;49m\u001b[43m(\u001b[49m\u001b[43mlde_sg\u001b[49m\u001b[43m,\u001b[49m\u001b[43m \u001b[49m\u001b[43mlde\u001b[49m\u001b[43m)\u001b[49m\n\u001b[1;32m      4\u001b[0m \u001b[43m]\u001b[49m\n",
      "Cell \u001b[0;32mIn [148], line 2\u001b[0m, in \u001b[0;36m<listcomp>\u001b[0;34m(.0)\u001b[0m\n\u001b[1;32m      1\u001b[0m quotient \u001b[38;5;241m=\u001b[39m [\n\u001b[0;32m----> 2\u001b[0m     (\u001b[43my\u001b[49m\u001b[43m \u001b[49m\u001b[38;5;241;43m-\u001b[39;49m\u001b[43m \u001b[49m\u001b[43mpoly\u001b[49m\u001b[43m(\u001b[49m\u001b[43mzeta\u001b[49m\u001b[43m)\u001b[49m) \u001b[38;5;241m/\u001b[39m (x \u001b[38;5;241m-\u001b[39m zeta)\n\u001b[1;32m      3\u001b[0m     \u001b[38;5;28;01mfor\u001b[39;00m x, y \u001b[38;5;129;01min\u001b[39;00m \u001b[38;5;28mzip\u001b[39m(lde_sg, lde)\n\u001b[1;32m      4\u001b[0m ]\n",
      "File \u001b[0;32m/private/var/tmp/sage-10.1-current/local/var/lib/sage/venv-python3.11.1/lib/python3.11/site-packages/sage/structure/element.pyx:1351\u001b[0m, in \u001b[0;36msage.structure.element.Element.__sub__ (build/cythonized/sage/structure/element.c:11657)\u001b[0;34m()\u001b[0m\n\u001b[1;32m   1349\u001b[0m     return (<Element>left)._sub_(right)\n\u001b[1;32m   1350\u001b[0m if BOTH_ARE_ELEMENT(cl):\n\u001b[0;32m-> 1351\u001b[0m     return coercion_model.bin_op(left, right, sub)\n\u001b[1;32m   1352\u001b[0m \n\u001b[1;32m   1353\u001b[0m try:\n",
      "File \u001b[0;32m/private/var/tmp/sage-10.1-current/local/var/lib/sage/venv-python3.11.1/lib/python3.11/site-packages/sage/structure/coerce.pyx:1269\u001b[0m, in \u001b[0;36msage.structure.coerce.CoercionModel.bin_op (build/cythonized/sage/structure/coerce.c:11834)\u001b[0;34m()\u001b[0m\n\u001b[1;32m   1267\u001b[0m     # We should really include the underlying error.\n\u001b[1;32m   1268\u001b[0m     # This causes so much headache.\n\u001b[0;32m-> 1269\u001b[0m     raise bin_op_exception(op, x, y)\n\u001b[1;32m   1270\u001b[0m \n\u001b[1;32m   1271\u001b[0m cpdef canonical_coercion(self, x, y):\n",
      "\u001b[0;31mTypeError\u001b[0m: unsupported operand parent(s) for -: 'Vector space of dimension 8 over Finite Field in z of size 17^4' and 'Finite Field in z of size 17^4'"
     ]
    }
   ],
   "source": [
    "quotient = [\n",
    "    (y - poly(zeta)) / (x - zeta)\n",
    "    for x, y in zip(lde_sg, lde)\n",
    "]"
   ]
  },
  {
   "cell_type": "code",
   "execution_count": 153,
   "id": "b9971443-2fb2-4e14-b440-a7e4c4aa077b",
   "metadata": {},
   "outputs": [
    {
     "data": {
      "text/plain": [
       "X^4 + 3"
      ]
     },
     "execution_count": 153,
     "metadata": {},
     "output_type": "execute_result"
    }
   ],
   "source": [
    "RR(X^4+3)"
   ]
  },
  {
   "cell_type": "code",
   "execution_count": 156,
   "id": "5e703993-ed23-4fee-9d66-6b924b126543",
   "metadata": {},
   "outputs": [
    {
     "data": {
      "text/plain": [
       "Finite Field in z of size 17^4"
      ]
     },
     "execution_count": 156,
     "metadata": {},
     "output_type": "execute_result"
    }
   ],
   "source": [
    "z.parent()"
   ]
  },
  {
   "cell_type": "code",
   "execution_count": 157,
   "id": "183d6c5d-ccd7-4be0-8684-07a5a9a23b1f",
   "metadata": {},
   "outputs": [
    {
     "data": {
      "text/plain": [
       "x^4 + 3"
      ]
     },
     "execution_count": 157,
     "metadata": {},
     "output_type": "execute_result"
    }
   ],
   "source": [
    "z.minpoly()"
   ]
  },
  {
   "cell_type": "code",
   "execution_count": null,
   "id": "842cd7cf-be65-4758-99bc-0a285c3e1fb7",
   "metadata": {},
   "outputs": [],
   "source": []
  }
 ],
 "metadata": {
  "kernelspec": {
   "display_name": "SageMath 10.1",
   "language": "sage",
   "name": "sagemath-10.1"
  },
  "language_info": {
   "codemirror_mode": {
    "name": "ipython",
    "version": 3
   },
   "file_extension": ".py",
   "mimetype": "text/x-python",
   "name": "python",
   "nbconvert_exporter": "python",
   "pygments_lexer": "ipython3",
   "version": "3.11.1"
  }
 },
 "nbformat": 4,
 "nbformat_minor": 5
}
