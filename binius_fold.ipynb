{
 "cells": [
  {
   "cell_type": "code",
   "execution_count": 1,
   "id": "837e07b4-8431-4b81-913d-fc0fd9a699e9",
   "metadata": {},
   "outputs": [],
   "source": [
    "from collections import namedtuple\n",
    "from sage.rings.polynomial.polydict import ETuple\n",
    "load('utils.sage') # log2_strict, MerkleTree, Transcript"
   ]
  },
  {
   "cell_type": "code",
   "execution_count": 2,
   "id": "ac92a8e9-b658-432a-a078-c8d54870c78a",
   "metadata": {},
   "outputs": [
    {
     "name": "stdout",
     "output_type": "stream",
     "text": [
      "Finite Field of size 2013265921\n",
      "Finite Field in u of size 2013265921^2\n"
     ]
    }
   ],
   "source": [
    "F = GF(15*2^27+1); print(F)\n",
    "RR.<X> = F[]\n",
    "FE.<u> = F.extension(X^2 - 11); print(FE)"
   ]
  },
  {
   "cell_type": "code",
   "execution_count": 3,
   "id": "215f2454-295d-4e89-807e-4b08d410c2e1",
   "metadata": {},
   "outputs": [
    {
     "data": {
      "text/plain": [
       "(2^27 * 3 * 5, 2^28 * 3 * 5 * 31 * 32472031)"
      ]
     },
     "execution_count": 3,
     "metadata": {},
     "output_type": "execute_result"
    }
   ],
   "source": [
    "factor(F.order() - 1), factor(FE.order() - 1)"
   ]
  },
  {
   "cell_type": "code",
   "execution_count": 4,
   "id": "034a1834-eb1f-4dda-9c00-c3f3e820992a",
   "metadata": {},
   "outputs": [],
   "source": [
    "def to_bits(x, n_bits):\n",
    "    for i in range(n_bits):\n",
    "        yield (x >> i) & 1\n",
    "\n",
    "# The boolean hypercube\n",
    "def B(n_bits):\n",
    "    for i in range(2^n_bits):\n",
    "        yield list(to_bits(i, n_bits))"
   ]
  },
  {
   "cell_type": "code",
   "execution_count": 5,
   "id": "f15df31b-a245-416f-8f55-ca43bf0c170f",
   "metadata": {},
   "outputs": [],
   "source": [
    "def eq(ys, xs=None, R=None):\n",
    "    ys = list(ys)\n",
    "    if xs is None:\n",
    "        if R is None:\n",
    "            R = PolynomialRing(ys[0].parent(), len(ys), 'x')\n",
    "        xs = list(R.gens())\n",
    "    assert len(xs) == len(ys)\n",
    "    return product(\n",
    "        x*y + (1 - x)*(1 - y)\n",
    "        for x, y in zip(xs, ys)\n",
    "    )\n",
    "\n",
    "def mle(evals):\n",
    "    n_bits = log2_strict(len(evals))\n",
    "    return sum(eq(to_bits(i, n_bits))*evals[i] for i in range(2^n_bits))\n",
    "\n",
    "x = matrix.random(F, 1, 16).row(0)\n",
    "assert x == vector([mle(x)(b) for b in B(4)])"
   ]
  },
  {
   "cell_type": "code",
   "execution_count": 6,
   "id": "864e3354-b7b5-4173-a00f-4ecd75bf1e6b",
   "metadata": {},
   "outputs": [
    {
     "name": "stdout",
     "output_type": "stream",
     "text": [
      "[         1          1          1          1          1          1          1          1]\n",
      "[         1 1728404513 2013265920  284861408          1 1728404513 2013265920  284861408]\n",
      "[         1 1592366214 1728404513  211723194 2013265920  420899707  284861408 1801542727]\n",
      "[         1  211723194  284861408 1592366214 2013265920 1801542727 1728404513  420899707]\n",
      "vs:\n",
      "[         1          1          1          1          1          1          1          1]\n",
      "[         1 1592366214 1728404513  211723194 2013265920  420899707  284861408 1801542727]\n",
      "[         1 1728404513 2013265920  284861408          1 1728404513 2013265920  284861408]\n",
      "[         1  211723194  284861408 1592366214 2013265920 1801542727 1728404513  420899707]\n"
     ]
    }
   ],
   "source": [
    "def rs_matrix(field, msg_bits, rate_bits):\n",
    "    if msg_bits == 0:\n",
    "        return matrix.ones(field, 1, 2^rate_bits)\n",
    "    inner = rs_matrix(field, msg_bits-1, rate_bits)\n",
    "    sg = two_adic_subgroup(field, msg_bits+rate_bits)\n",
    "    T1, T2 = [matrix.diagonal(d) for d in (sg[:len(sg)/2], sg[len(sg)/2:])]\n",
    "    return matrix.block([[inner, inner], [inner * T1, inner * T2]], subdivide=False)\n",
    "\n",
    "print(rs_matrix(F, 2, 1))\n",
    "print('vs:')\n",
    "print(codes.ReedSolomonCode(F, 8, 4).generator_matrix())"
   ]
  },
  {
   "cell_type": "code",
   "execution_count": 7,
   "id": "544035dd-fef2-4a25-a9ec-4535a2113c0d",
   "metadata": {},
   "outputs": [],
   "source": [
    "def multilinear_coeffs(p):\n",
    "    d = p.dict()\n",
    "    if len(p.parent().gens()) == 1:\n",
    "        return vector([d.get(0, 0), d.get(1, 0)])\n",
    "    else:\n",
    "        return vector([\n",
    "            d.get(ETuple(tuple(b)), 0)\n",
    "            for b in B(len(p.parent().gens()))\n",
    "        ])"
   ]
  },
  {
   "cell_type": "code",
   "execution_count": 8,
   "id": "82e52ea3-b3a3-4af7-bf95-c1bd5ce8a380",
   "metadata": {},
   "outputs": [],
   "source": [
    "def encode(v, rate_bits):\n",
    "    n_bits = log2_strict(len(v))\n",
    "    field = v.base_ring()\n",
    "    return v * rs_matrix(field, n_bits, rate_bits)\n",
    "\n",
    "def interpolate2(x0, y0, x1, y1, x):\n",
    "    return y0 + (y1 - y0) * (x - x0) / (x1 - x0)\n",
    "\n",
    "def fold_evals(v, beta):\n",
    "    # diag(T1) = (g^0, .., g^n/2), diag(T2) = (g^(n/2+1), .., g^(n-1))\n",
    "    n_bits = log2_strict(len(v))\n",
    "    sg = two_adic_subgroup(v.base_ring(), n_bits)\n",
    "    T1, T2 = sg[:len(v)/2], sg[len(v)/2:]\n",
    "    return vector([\n",
    "        interpolate2(T1[j], v[j], T2[j], v[j+len(v)/2], beta)\n",
    "        for j in range(len(v)/2)\n",
    "    ])"
   ]
  },
  {
   "cell_type": "code",
   "execution_count": 14,
   "id": "7c1541c7-55be-45bb-901b-424cf5c61611",
   "metadata": {},
   "outputs": [
    {
     "name": "stdout",
     "output_type": "stream",
     "text": [
      "32\n",
      "[1499181377*u + 1199012862, 1180221880*u + 629569893, 1534477982*u + 1391300206, 1216036703*u + 1991132894, 1250196892*u + 905577601] 1996849893*u + 1856409673\n",
      "codeword=(798045927*u + 1910377036, 798045927*u + 1910377036)\n",
      "f(rs)=798045927*u + 1910377036\n",
      "\n",
      "EvalProof(comms=[b'fe94afbb', b'afec1c6c', b'b8eb985a', b'79b5c7da', b'9ce40ee9', b'dcf9c335'], y=1996849893*u + 1856409673, hs=[(1257690178*u + 1814137626)*X^2 + (369943786*u + 1481993966)*X + 1191240925*u + 286772001, (1199660290*u + 684527314)*X^2 + (553659853*u + 766749018)*X + 201412270*u + 1109390407, (1889954906*u + 460017120)*X^2 + (703272500*u + 624244290)*X + 1720892355*u + 1589138416, (1229167621*u + 1429114330)*X^2 + (1160454070*u + 56502040)*X + 1544554262*u + 1542444642, (980821393*u + 1768304341)*X^2 + (888699390*u + 1646143300)*X + 504404100*u + 1175369309])\n",
      "\n",
      "[1499181377*u + 1199012862, 1180221880*u + 629569893, 1534477982*u + 1391300206, 1216036703*u + 1991132894, 1250196892*u + 905577601] 1996849893*u + 1856409673\n",
      "final_eval=798045927*u + 1910377036\n"
     ]
    }
   ],
   "source": [
    "EvalProof = namedtuple('EvalProof', [\n",
    "    'comms', 'y', 'hs'\n",
    "])\n",
    "\n",
    "def basefold_prove(t, evals, rate_bits, challenge_field):\n",
    "    n_vars = log2_strict(len(evals))\n",
    "    f = mle(evals)\n",
    "    codeword = encode(multilinear_coeffs(f), rate_bits)\n",
    "    oracles = [MerkleTree(codeword)]\n",
    "    t.observe(oracles[0].root())\n",
    "    z = [t.challenge(challenge_field) for _ in range(n_vars)]\n",
    "    y = f(z)\n",
    "    print(z, y)\n",
    "    rs = []\n",
    "    def eval_sum(b):\n",
    "        x = b + [X] + rs\n",
    "        return f(x) * eq(z)(x)\n",
    "    hs = [sum(eval_sum(b) for b in B(n_vars-1))]\n",
    "    for i in range(n_vars):\n",
    "        rs.insert(0, t.challenge(challenge_field))\n",
    "        codeword = fold_evals(codeword, rs[0])\n",
    "        oracles.append(MerkleTree(codeword))\n",
    "        t.observe(oracles[-1].root())\n",
    "        if i < n_vars - 1:\n",
    "            hs.append(sum(eval_sum(b) for b in B(n_vars-i-2)))\n",
    "    print(f'{codeword=}')\n",
    "    print(f'{f(rs)=}')\n",
    "    return EvalProof(comms=[o.root() for o in oracles], y=y, hs=hs)\n",
    "\n",
    "def basefold_verify(t, proof, n_vars, rate_bits, challenge_field):\n",
    "    comms, y, hs = proof\n",
    "    t.observe(comms[0])\n",
    "    z = [t.challenge(challenge_field) for _ in range(n_vars)]\n",
    "    print(z, y)\n",
    "    rs = []\n",
    "    old_eval = y\n",
    "    for comm, h in zip(comms[1:], hs):\n",
    "        assert h(0) + h(1) == old_eval\n",
    "        rs.insert(0, t.challenge(challenge_field))\n",
    "        old_eval = h(rs[0])\n",
    "        t.observe(comm)\n",
    "    # todo: IOPP.query\n",
    "    final_eval = old_eval / eq(rs, z)\n",
    "    print(f'{final_eval=}')\n",
    "    assert MerkleTree(encode(vector([final_eval]), 1)).root() == comms[-1]\n",
    "\n",
    "# Parameters\n",
    "n_vars = 5\n",
    "rate_bits = 1\n",
    "with seed(0):\n",
    "    evals = matrix.random(F, 1, 2^n_vars).row(0)\n",
    "print(len(evals))\n",
    "\n",
    "proof = basefold_prove(Transcript(), evals, rate_bits, FE)\n",
    "print(); print(proof); print()\n",
    "basefold_verify(Transcript(), proof, n_vars, rate_bits, FE)"
   ]
  },
  {
   "cell_type": "code",
   "execution_count": 10,
   "id": "98e96d8a-0db3-4135-b710-1f217efa322d",
   "metadata": {},
   "outputs": [],
   "source": [
    "EvalProof = namedtuple('EvalProof', [\n",
    "    'comms', 'y', 'hs'\n",
    "])"
   ]
  },
  {
   "cell_type": "code",
   "execution_count": 40,
   "id": "1737305b-3372-4841-8f3f-197292d2128e",
   "metadata": {},
   "outputs": [
    {
     "name": "stdout",
     "output_type": "stream",
     "text": [
      "32 (239314053, 1752017257, 1104552879, 1403531344, 95970379, 40893827, 714018130, 1670834276, 1117980501, 1899472573, 392374258, 1127884130, 1505102375, 1320876833, 171853400, 389593204, 1909242991, 960203414, 1249605700, 171838036, 1894868810, 581665188, 1659567657, 324824829, 321456214, 421210553, 1859528577, 61056999, 1858629403, 300476657, 1062500079, 1911182510)\n",
      "proving p([90983862*u + 1672417394, 1464525613*u + 374489362, 1933342190*u + 274816201, 982149277*u + 250167490, 731848166*u + 1638096986]) = 337604180*u + 68796779\n",
      "codeword=(1450103034*u + 1213348500, 1450103034*u + 1213348500)\n",
      "\n",
      "EvalProof(comms=[b'6e98b27f', b'b9f481e8', b'ad293db2', b'a93a1612', b'375b3c20'], y=337604180*u + 68796779, hs=[(1586601167*u + 454330318)*X^2 + (1178072827*u + 1906621340)*X + 799731014*u + 1873821442, (363794974*u + 1298389066)*X^2 + (1112165725*u + 1678096280)*X + 683578733*u + 1595399468, (1149845144*u + 65564683)*X^2 + (939432230*u + 718652166)*X + 844424944*u + 625665703, (1337902894*u + 1273576543)*X^2 + (888580504*u + 448505556)*X + 1465132428*u + 232092338, (1836429056*u + 871591211)*X^2 + (295868541*u + 1218844465)*X + 1697230630*u + 527814324])\n",
      "\n",
      "f0 + u*f1=1450103034*u + 1213348500\n"
     ]
    }
   ],
   "source": [
    "def binfold_prove(domain_field, challenge_field, t, evals, z, y, rate_bits):\n",
    "    n_vars = log2_strict(len(evals))\n",
    "    d = domain_field.degree()\n",
    "    d_bits = log2_strict(d)\n",
    "    assert len(evals) % d == 0, \"domain degree must divide trace length\"\n",
    "    \n",
    "    packed_evals = vector([domain_field(evals[i:i+d]) for i in range(0, len(evals), d)])\n",
    "    poly = multilinear_coeffs(mle(packed_evals))\n",
    "    codeword = encode(poly, rate_bits)\n",
    "    \n",
    "    oracles = [MerkleTree(codeword)]\n",
    "    t.observe(oracles[0].root())\n",
    "    \n",
    "    f = mle(evals)\n",
    "    rs = []\n",
    "    def eval_sum(b):\n",
    "        r.<X> = domain_field[]\n",
    "        x = b + [X] + rs\n",
    "        return f(x) * eq(z)(x)\n",
    "    \n",
    "    hs = [sum(eval_sum(b) for b in B(n_vars-1))]\n",
    "    for i in range(n_vars - d_bits):\n",
    "        rs.insert(0, t.challenge(challenge_field))\n",
    "        codeword = fold_evals(codeword, rs[0])\n",
    "        oracles.append(MerkleTree(codeword))\n",
    "        t.observe(oracles[-1].root())\n",
    "        if True or i < n_vars - 1:\n",
    "            hs.append(sum(eval_sum(b) for b in B(n_vars-i-2)))\n",
    "    \n",
    "    print(f'{codeword=}')\n",
    "    u = domain_field.gens()[0]\n",
    "    assert all(symbol == f([0]+rs) + u * f([1]+rs) for symbol in codeword)\n",
    "    \n",
    "    return EvalProof(comms=[o.root() for o in oracles], y=y, hs=hs)\n",
    "\n",
    "def binfold_verify(domain_field, challenge_field, t, proof, n_vars, z, rate_bits):\n",
    "    comms, y, hs = proof\n",
    "    t.observe(comms[0])\n",
    "    rs = []\n",
    "    old_eval = y\n",
    "    for comm, h in zip(comms[1:], hs[:-1]):\n",
    "        assert h(0) + h(1) == old_eval\n",
    "        rs.insert(0, t.challenge(challenge_field))\n",
    "        old_eval = h(rs[0])\n",
    "        t.observe(comm)\n",
    "\n",
    "    # todo: IOPP.query\n",
    "    assert hs[-1](0) + hs[-1](1) == old_eval\n",
    "    f0 = hs[-1](0) / eq([0]+rs, z)\n",
    "    f1 = hs[-1](1) / eq([1]+rs, z)\n",
    "    u = domain_field.gens()[0]\n",
    "    print(f'{f0 + u*f1=}')\n",
    "    assert MerkleTree(encode(vector([f0 + u*f1]), 1)).root() == comms[-1]\n",
    "\n",
    "n_vars = 5\n",
    "rate_bits = 1\n",
    "with seed(0):\n",
    "    evals = matrix.random(F, 1, 2^n_vars).row(0)\n",
    "print(len(evals), evals)\n",
    "\n",
    "with seed(123): z = [FE.random_element() for _ in range(n_vars)]\n",
    "y = mle(evals)(z)\n",
    "print(f'proving p({z}) = {y}')\n",
    "\n",
    "proof = binfold_prove(FE, FE, Transcript(), evals, z, y, rate_bits)\n",
    "print(); print(proof); print()\n",
    "binfold_verify(FE, FE, Transcript(), proof, n_vars, z, rate_bits)"
   ]
  },
  {
   "cell_type": "code",
   "execution_count": 41,
   "id": "ff6e3e0a-b637-4dec-acc1-025a57e3837c",
   "metadata": {},
   "outputs": [
    {
     "data": {
      "text/plain": [
       "(Finite Field of size 17, Finite Field in z17 of size 17^2)"
      ]
     },
     "execution_count": 41,
     "metadata": {},
     "output_type": "execute_result"
    }
   ],
   "source": [
    "F17 = GF(17)\n",
    "R17.<X17> = F17[]\n",
    "F289.<z17> = F17.extension(X17^2 - 3)\n",
    "F17, F289"
   ]
  },
  {
   "cell_type": "code",
   "execution_count": 42,
   "id": "7b90553d-87d9-46fb-9bac-c1336ad23d7e",
   "metadata": {},
   "outputs": [
    {
     "data": {
      "text/plain": [
       "(2^4, 2^5 * 3^2)"
      ]
     },
     "execution_count": 42,
     "metadata": {},
     "output_type": "execute_result"
    }
   ],
   "source": [
    "factor(17-1), factor(17^2-1)"
   ]
  },
  {
   "cell_type": "markdown",
   "id": "acdfdc8a-6729-4510-b5ca-9fb0061e5e0b",
   "metadata": {},
   "source": [
    "##### Committing to a trace with 5 vars, which is larger than the alphabet of GF(17)"
   ]
  },
  {
   "cell_type": "code",
   "execution_count": 44,
   "id": "31ef58cd-7ef3-4764-83e5-ee8839e4701f",
   "metadata": {},
   "outputs": [
    {
     "name": "stdout",
     "output_type": "stream",
     "text": [
      "32 (8, 5, 15, 10, 13, 0, 11, 16, 15, 4, 9, 8, 8, 8, 6, 1, 8, 11, 8, 13, 6, 5, 8, 12, 5, 6, 1, 9, 14, 10, 9, 16)\n",
      "proving p([4*z17 + 15, 16*z17 + 7, 15*z17, 12*z17 + 8, 10*z17 + 10]) = 11*z17 + 8\n",
      "codeword=(6*z17 + 7, 6*z17 + 7)\n",
      "\n",
      "EvalProof(comms=[b'8882532c', b'8bf4c59f', b'42543e65', b'64d9d43d', b'346ea1f7'], y=11*z17 + 8, hs=[(15*z17 + 4)*X^2 + 9*X + 15*z17 + 6, (8*z17 + 13)*X^2 + (8*z17 + 8)*X + 9*z17 + 7, (5*z17 + 16)*X^2 + (8*z17 + 10)*X + 12*z17 + 16, X^2 + (8*z17 + 2)*X + 10*z17 + 6, (15*z17 + 5)*X^2 + (8*z17 + 6)*X + 8*z17 + 10])\n",
      "\n",
      "f0 + u*f1=6*z17 + 7\n"
     ]
    }
   ],
   "source": [
    "n_vars = 5\n",
    "rate_bits = 1\n",
    "with seed(1):\n",
    "    evals = matrix.random(F17, 1, 2^n_vars).row(0)\n",
    "print(len(evals), evals)\n",
    "\n",
    "with seed(123): z = [F289.random_element() for _ in range(n_vars)]\n",
    "y = mle(evals)(z)\n",
    "print(f'proving p({z}) = {y}')\n",
    "\n",
    "proof = binfold_prove(F289, F289, Transcript(), evals, z, y, rate_bits)\n",
    "print(); print(proof); print()\n",
    "binfold_verify(F289, F289, Transcript(), proof, n_vars, z, rate_bits)"
   ]
  },
  {
   "cell_type": "code",
   "execution_count": null,
   "id": "bdd12c9d-4110-4099-870b-24f02e77e07c",
   "metadata": {},
   "outputs": [],
   "source": []
  }
 ],
 "metadata": {
  "kernelspec": {
   "display_name": "SageMath 10.1",
   "language": "sage",
   "name": "sagemath-10.1"
  },
  "language_info": {
   "codemirror_mode": {
    "name": "ipython",
    "version": 3
   },
   "file_extension": ".py",
   "mimetype": "text/x-python",
   "name": "python",
   "nbconvert_exporter": "python",
   "pygments_lexer": "ipython3",
   "version": "3.11.1"
  }
 },
 "nbformat": 4,
 "nbformat_minor": 5
}
