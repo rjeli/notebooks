{
 "cells": [
  {
   "cell_type": "code",
   "execution_count": 1,
   "id": "837e07b4-8431-4b81-913d-fc0fd9a699e9",
   "metadata": {},
   "outputs": [],
   "source": [
    "from collections import namedtuple\n",
    "from sage.rings.polynomial.polydict import ETuple\n",
    "load('utils.sage') # log2_strict, MerkleTree, Transcript"
   ]
  },
  {
   "cell_type": "code",
   "execution_count": 2,
   "id": "ac92a8e9-b658-432a-a078-c8d54870c78a",
   "metadata": {},
   "outputs": [
    {
     "name": "stdout",
     "output_type": "stream",
     "text": [
      "Finite Field of size 2013265921\n"
     ]
    }
   ],
   "source": [
    "F = GF(15*2^27+1); print(F)\n",
    "R.<X> = F[]"
   ]
  },
  {
   "cell_type": "code",
   "execution_count": 3,
   "id": "034a1834-eb1f-4dda-9c00-c3f3e820992a",
   "metadata": {},
   "outputs": [],
   "source": [
    "def to_bits(x, n_bits):\n",
    "    for i in range(n_bits):\n",
    "        yield (x >> i) & 1\n",
    "\n",
    "# The boolean hypercube\n",
    "def B(n_bits):\n",
    "    for i in range(2^n_bits):\n",
    "        yield list(to_bits(i, n_bits))"
   ]
  },
  {
   "cell_type": "code",
   "execution_count": 4,
   "id": "f15df31b-a245-416f-8f55-ca43bf0c170f",
   "metadata": {},
   "outputs": [],
   "source": [
    "def eq(ys, xs=None, R=None):\n",
    "    ys = list(ys)\n",
    "    if xs is None:\n",
    "        if R is None:\n",
    "            R = PolynomialRing(ys[0].parent(), len(ys), 'x')\n",
    "        xs = list(R.gens())\n",
    "    assert len(xs) == len(ys)\n",
    "    return product(\n",
    "        x*y + (1 - x)*(1 - y)\n",
    "        for x, y in zip(xs, ys)\n",
    "    )\n",
    "\n",
    "def mle(evals):\n",
    "    n_bits = log2_strict(len(evals))\n",
    "    return sum(eq(to_bits(i, n_bits))*evals[i] for i in range(2^n_bits))\n",
    "\n",
    "x = matrix.random(F, 1, 16).row(0)\n",
    "assert x == vector([mle(x)(b) for b in B(4)])"
   ]
  },
  {
   "cell_type": "code",
   "execution_count": 5,
   "id": "864e3354-b7b5-4173-a00f-4ecd75bf1e6b",
   "metadata": {},
   "outputs": [
    {
     "name": "stdout",
     "output_type": "stream",
     "text": [
      "[         1          1          1          1          1          1          1          1]\n",
      "[         1 1728404513 2013265920  284861408          1 1728404513 2013265920  284861408]\n",
      "[         1 1592366214 1728404513  211723194 2013265920  420899707  284861408 1801542727]\n",
      "[         1  211723194  284861408 1592366214 2013265920 1801542727 1728404513  420899707]\n",
      "vs:\n",
      "[         1          1          1          1          1          1          1          1]\n",
      "[         1 1592366214 1728404513  211723194 2013265920  420899707  284861408 1801542727]\n",
      "[         1 1728404513 2013265920  284861408          1 1728404513 2013265920  284861408]\n",
      "[         1  211723194  284861408 1592366214 2013265920 1801542727 1728404513  420899707]\n"
     ]
    }
   ],
   "source": [
    "def rs_matrix(field, msg_bits, rate_bits):\n",
    "    if msg_bits == 0:\n",
    "        return matrix.ones(field, 1, 2^rate_bits)\n",
    "    inner = rs_matrix(field, msg_bits-1, rate_bits)\n",
    "    sg = two_adic_subgroup(field, msg_bits+rate_bits)\n",
    "    T1, T2 = [matrix.diagonal(d) for d in (sg[:len(sg)/2], sg[len(sg)/2:])]\n",
    "    return matrix.block([[inner, inner], [inner * T1, inner * T2]], subdivide=False)\n",
    "\n",
    "print(rs_matrix(F, 2, 1))\n",
    "print('vs:')\n",
    "print(codes.ReedSolomonCode(F, 8, 4).generator_matrix())"
   ]
  },
  {
   "cell_type": "code",
   "execution_count": 6,
   "id": "544035dd-fef2-4a25-a9ec-4535a2113c0d",
   "metadata": {},
   "outputs": [],
   "source": [
    "def multilinear_coeffs(p):\n",
    "    d = p.dict()\n",
    "    return vector([\n",
    "        d.get(ETuple(b), 0)\n",
    "        for b in B(len(p.parent().gens()))\n",
    "    ])"
   ]
  },
  {
   "cell_type": "code",
   "execution_count": 7,
   "id": "82e52ea3-b3a3-4af7-bf95-c1bd5ce8a380",
   "metadata": {},
   "outputs": [],
   "source": [
    "def encode(v, rate_bits):\n",
    "    n_bits = log2_strict(len(v))\n",
    "    field = v.base_ring()\n",
    "    return v * rs_matrix(field, n_bits, rate_bits)\n",
    "\n",
    "def interpolate2(xa, ya, xb, yb, x):\n",
    "    return ya + (yb - ya) * (x - xa) / (xb - xa)\n",
    "\n",
    "def fold_evals(v, beta):\n",
    "    # diag(T1) = (g^0, .., g^n/2), diag(T2) = (g^(n/2+1), .., g^(n-1))\n",
    "    n_bits = log2_strict(len(v))\n",
    "    sg = two_adic_subgroup(F, n_bits)\n",
    "    T1, T2 = sg[:len(v)/2], sg[len(v)/2:]\n",
    "    return vector([\n",
    "        interpolate2(T1[j], v[j], T2[j], v[j+len(v)/2], beta)\n",
    "        for j in range(len(v)/2)\n",
    "    ])"
   ]
  },
  {
   "cell_type": "code",
   "execution_count": 16,
   "id": "7c1541c7-55be-45bb-901b-424cf5c61611",
   "metadata": {},
   "outputs": [
    {
     "name": "stdout",
     "output_type": "stream",
     "text": [
      "32\n",
      "[66809542, 437403465, 1852014596, 1931687671, 1847338564] 1413980145\n",
      "codeword=(1316390028, 1316390028) rs=[1349761488, 225760585, 38033045, 17951029, 455585381] f(rs)=1316390028\n",
      "\n",
      "EvalProof(comms=[b'fe94afbb', b'43b6cbe2', b'4779567f', b'bd9de4fc', b'46584e2a', b'd4ab64f5'], y=1413980145, hs=[611272261*X^2 + 671153020*X + 65777432, 1270798613*X^2 + 479288763*X + 1005010434, 1820313339*X^2 + 929239804*X + 1369825294, 1137047125*X^2 + 348446020*X + 1599670240, 271217647*X^2 + 1578584800*X + 1381443804])\n",
      "\n",
      "[66809542, 437403465, 1852014596, 1931687671, 1847338564] 1413980145\n",
      "final_eval=1316390028\n"
     ]
    }
   ],
   "source": [
    "EvalProof = namedtuple('EvalProof', [\n",
    "    'comms', 'y', 'hs'\n",
    "])\n",
    "\n",
    "def basefold_prove(t, evals, rate_bits):\n",
    "    n_vars = log2_strict(len(evals))\n",
    "    f = mle(evals)\n",
    "    codeword = encode(multilinear_coeffs(f), rate_bits)\n",
    "    oracles = [MerkleTree(codeword)]\n",
    "    t.observe(oracles[0].root())\n",
    "    z = [t.challenge(F) for _ in range(n_vars)]\n",
    "    y = f(z)\n",
    "    print(z, y)\n",
    "    hs = [sum(f(b+[X]) * eq(z)(b+[X]) for b in B(n_vars-1))]\n",
    "    rs = []\n",
    "    for i in range(n_vars):\n",
    "        rs.insert(0, t.challenge(F))\n",
    "        codeword = fold_evals(codeword, rs[0])\n",
    "        oracles.append(MerkleTree(codeword))\n",
    "        t.observe(oracles[-1].root())\n",
    "        if i < n_vars - 1:\n",
    "            hs.append(sum(\n",
    "                f(b+[X]+rs) * eq(z)(b+[X]+rs)\n",
    "                for b in B(n_vars-i-2)\n",
    "            ))\n",
    "    print(f'{codeword=} {rs=} {f(rs)=}')\n",
    "    return EvalProof(comms=[o.root() for o in oracles], y=y, hs=hs)\n",
    "\n",
    "def basefold_verify(t, proof, n_vars, rate_bits):\n",
    "    comms, y, hs = proof\n",
    "    t.observe(comms[0])\n",
    "    z = [t.challenge(F) for _ in range(n_vars)]\n",
    "    print(z, y)\n",
    "    rs = []\n",
    "    old_eval = y\n",
    "    for comm, h in zip(comms[1:], hs):\n",
    "        assert h(0) + h(1) == old_eval\n",
    "        rs.insert(0, t.challenge(F))\n",
    "        old_eval = h(rs[0])\n",
    "        t.observe(comm)\n",
    "    final_eval = old_eval / eq(rs, z)\n",
    "    print(f'{final_eval=}')\n",
    "    assert MerkleTree(encode(vector([final_eval]), 1)).root() == comms[-1]\n",
    "\n",
    "# Parameters\n",
    "n_vars = 5\n",
    "rate_bits = 1\n",
    "with seed(0):\n",
    "    evals = matrix.random(F, 1, 2^n_vars).row(0)\n",
    "print(len(evals))\n",
    "\n",
    "proof = basefold_prove(Transcript(), evals, rate_bits)\n",
    "print(); print(proof); print()\n",
    "basefold_verify(Transcript(), proof, n_vars, rate_bits)"
   ]
  },
  {
   "cell_type": "code",
   "execution_count": 30,
   "id": "a270b880-d9db-44cb-8b94-5debd37e9383",
   "metadata": {},
   "outputs": [
    {
     "ename": "NameError",
     "evalue": "name 'codeword' is not defined",
     "output_type": "error",
     "traceback": [
      "\u001b[0;31m---------------------------------------------------------------------------\u001b[0m",
      "\u001b[0;31mNameError\u001b[0m                                 Traceback (most recent call last)",
      "Cell \u001b[0;32mIn [30], line 2\u001b[0m\n\u001b[1;32m      1\u001b[0m t \u001b[38;5;241m=\u001b[39m Transcript()\n\u001b[0;32m----> 2\u001b[0m trace_oracle \u001b[38;5;241m=\u001b[39m MerkleTree(\u001b[43mcodeword\u001b[49m)\n\u001b[1;32m      3\u001b[0m t\u001b[38;5;241m.\u001b[39mobserve(trace_oracle\u001b[38;5;241m.\u001b[39mroot())\n\u001b[1;32m      4\u001b[0m z \u001b[38;5;241m=\u001b[39m [t\u001b[38;5;241m.\u001b[39mchallenge(F) \u001b[38;5;28;01mfor\u001b[39;00m _ \u001b[38;5;129;01min\u001b[39;00m \u001b[38;5;28mrange\u001b[39m(n_vars)]\n",
      "\u001b[0;31mNameError\u001b[0m: name 'codeword' is not defined"
     ]
    }
   ],
   "source": [
    "t = Transcript()\n",
    "trace_oracle = MerkleTree(codeword)\n",
    "t.observe(trace_oracle.root())\n",
    "z = [t.challenge(F) for _ in range(n_vars)]\n",
    "y = f(z)\n",
    "z, y"
   ]
  },
  {
   "cell_type": "code",
   "execution_count": 122,
   "id": "26ace30a-f37d-463d-af59-f465c8539df1",
   "metadata": {},
   "outputs": [
    {
     "data": {
      "text/plain": [
       "455260732*X^2 + 1561868076*X + 1659258104"
      ]
     },
     "execution_count": 122,
     "metadata": {},
     "output_type": "execute_result"
    }
   ],
   "source": [
    "h_d = sum(f(b+[X]) * eq(b+[X], z) for b in B(n_vars-1)); h_d"
   ]
  },
  {
   "cell_type": "code",
   "execution_count": 74,
   "id": "cdd3e56e-6265-4234-b7fb-682abc196865",
   "metadata": {},
   "outputs": [
    {
     "data": {
      "text/plain": [
       "[[0, 0, 0],\n",
       " [1, 0, 0],\n",
       " [0, 1, 0],\n",
       " [1, 1, 0],\n",
       " [0, 0, 1],\n",
       " [1, 0, 1],\n",
       " [0, 1, 1],\n",
       " [1, 1, 1]]"
      ]
     },
     "execution_count": 74,
     "metadata": {},
     "output_type": "execute_result"
    }
   ],
   "source": [
    "list(B(3))"
   ]
  },
  {
   "cell_type": "code",
   "execution_count": 89,
   "id": "3c799155-101f-4fee-a493-6e0587260cc4",
   "metadata": {},
   "outputs": [
    {
     "data": {
      "text/plain": [
       "(x0, x1, x2, x3)"
      ]
     },
     "execution_count": 89,
     "metadata": {},
     "output_type": "execute_result"
    }
   ],
   "source": [
    "f.variables()"
   ]
  },
  {
   "cell_type": "code",
   "execution_count": 127,
   "id": "eade8d86-2183-43ba-9972-9b1868397f53",
   "metadata": {},
   "outputs": [
    {
     "data": {
      "text/plain": [
       "1279983006*X + 40893827"
      ]
     },
     "execution_count": 127,
     "metadata": {},
     "output_type": "execute_result"
    }
   ],
   "source": [
    "f(list(B(n_vars-1))[5] + [X])"
   ]
  },
  {
   "cell_type": "code",
   "execution_count": 128,
   "id": "59c27bbf-4e44-4879-8ad9-561ae5b3a165",
   "metadata": {},
   "outputs": [
    {
     "data": {
      "text/plain": [
       "1811553886*X + 17472635"
      ]
     },
     "execution_count": 128,
     "metadata": {},
     "output_type": "execute_result"
    }
   ],
   "source": [
    "eq(list(B(n_vars-1))[2] + [X], z)"
   ]
  },
  {
   "cell_type": "code",
   "execution_count": 130,
   "id": "f6146431-4ac9-47d6-8b9e-ec97475a1ed0",
   "metadata": {},
   "outputs": [
    {
     "data": {
      "text/plain": [
       "[5, 4, 3, 2, 1, 0]"
      ]
     },
     "execution_count": 130,
     "metadata": {},
     "output_type": "execute_result"
    }
   ],
   "source": [
    "list(range(5, -1, -1))"
   ]
  },
  {
   "cell_type": "code",
   "execution_count": 132,
   "id": "4c48aeb3-a362-4f97-bf00-fe1b04e7794a",
   "metadata": {},
   "outputs": [
    {
     "data": {
      "text/plain": [
       "[4, 3, 2, 1, 0]"
      ]
     },
     "execution_count": 132,
     "metadata": {},
     "output_type": "execute_result"
    }
   ],
   "source": [
    "list(reversed(range(5)))"
   ]
  },
  {
   "cell_type": "code",
   "execution_count": 135,
   "id": "20cf47ee-43ae-4752-8569-d4fcdf27658d",
   "metadata": {},
   "outputs": [
    {
     "data": {
      "text/plain": [
       "[         1          1          1          1          1          1          1          1]\n",
       "[         1 1592366214 1728404513  211723194 2013265920  420899707  284861408 1801542727]\n",
       "[         1 1728404513 2013265920  284861408          1 1728404513 2013265920  284861408]\n",
       "[         1  211723194  284861408 1592366214 2013265920 1801542727 1728404513  420899707]"
      ]
     },
     "execution_count": 135,
     "metadata": {},
     "output_type": "execute_result"
    }
   ],
   "source": [
    "m = codes.ReedSolomonCode(F, 8, 4).generator_matrix(); m"
   ]
  },
  {
   "cell_type": "code",
   "execution_count": 142,
   "id": "ecf1e5fb-a027-4459-a4eb-5cd6708a93ef",
   "metadata": {},
   "outputs": [
    {
     "name": "stdout",
     "output_type": "stream",
     "text": [
      "    def encode(self, word, encoder_name=None, *args, **kwargs):\n",
      "        r\"\"\"\n",
      "        Transforms an element of a message space into a codeword.\n",
      "\n",
      "        INPUT:\n",
      "\n",
      "        - ``word`` -- an element of a message space of the code\n",
      "\n",
      "        - ``encoder_name`` -- (default: ``None``) Name of the encoder which will be used\n",
      "          to encode ``word``. The default encoder of ``self`` will be used if\n",
      "          default value is kept.\n",
      "\n",
      "        - ``args``, ``kwargs`` -- all additional arguments are forwarded to the construction of the\n",
      "          encoder that is used..\n",
      "\n",
      "        One can use the following shortcut to encode a word ::\n",
      "\n",
      "            C(word)\n",
      "\n",
      "        OUTPUT:\n",
      "\n",
      "        - a vector of ``self``.\n",
      "\n",
      "        EXAMPLES::\n",
      "\n",
      "            sage: G = Matrix(GF(2), [[1,1,1,0,0,0,0], [1,0,0,1,1,0,0],\n",
      "            ....:                    [0,1,0,1,0,1,0], [1,1,0,1,0,0,1]])\n",
      "            sage: C = LinearCode(G)\n",
      "            sage: word = vector((0, 1, 1, 0))\n",
      "            sage: C.encode(word)\n",
      "            (1, 1, 0, 0, 1, 1, 0)\n",
      "            sage: C(word)\n",
      "            (1, 1, 0, 0, 1, 1, 0)\n",
      "\n",
      "        It is possible to manually choose the encoder amongst the list of the available ones::\n",
      "\n",
      "            sage: sorted(C.encoders_available())\n",
      "            ['GeneratorMatrix', 'Systematic']\n",
      "            sage: word = vector((0, 1, 1, 0))\n",
      "            sage: C.encode(word, 'GeneratorMatrix')\n",
      "            (1, 1, 0, 0, 1, 1, 0)\n",
      "        \"\"\"\n",
      "        E = self.encoder(encoder_name, *args, **kwargs)\n",
      "        return E.encode(word)\n",
      "\n"
     ]
    }
   ],
   "source": [
    "import inspect\n",
    "print(inspect.getsource(codes.ReedSolomonCode(F, 8, 4).encode))"
   ]
  },
  {
   "cell_type": "code",
   "execution_count": 166,
   "id": "95a5ebc3-bc38-43bd-b176-828f89807b23",
   "metadata": {},
   "outputs": [
    {
     "data": {
      "text/plain": [
       "<bound method Encoder.unencode_nocheck of Evaluation vector-style encoder for [4, 4, 1] Reed-Solomon Code over GF(2013265921)>"
      ]
     },
     "execution_count": 166,
     "metadata": {},
     "output_type": "execute_result"
    }
   ],
   "source": [
    "e = codes.ReedSolomonCode(F, 4, 4).encoder()\n",
    "e.unencode_nocheck"
   ]
  },
  {
   "cell_type": "code",
   "execution_count": 83,
   "id": "306a4707-8d25-4c16-90e7-3d9490f9efab",
   "metadata": {},
   "outputs": [
    {
     "name": "stdout",
     "output_type": "stream",
     "text": [
      "[         1          1          1          1]\n",
      "[         1 1728404513 2013265920  284861408]\n",
      "[         1 2013265920          1 2013265920]\n",
      "[         1  284861408 2013265920 1728404513]\n",
      "(1872393269, 737778300, 1877566767, 483611214)\n"
     ]
    },
    {
     "data": {
      "text/plain": [
       "((944817708, 1802853353, 515304601, 200065572),\n",
       " (944817708, 1802853353, 515304601, 200065572))"
      ]
     },
     "execution_count": 83,
     "metadata": {},
     "output_type": "execute_result"
    }
   ],
   "source": [
    "c = codes.ReedSolomonCode(F, 4, 4); print(c.generator_matrix())\n",
    "v = matrix.random(F, 1, 4).row(0); print(v)\n",
    "codeword = c.encode(v); codeword, v * c.generator_matrix()"
   ]
  },
  {
   "cell_type": "code",
   "execution_count": 168,
   "id": "a623ce32-962a-4988-9214-aaa8be7ce790",
   "metadata": {},
   "outputs": [
    {
     "data": {
      "text/plain": [
       "(1516158824, 1315000374, 1649604317, 590442052)"
      ]
     },
     "execution_count": 168,
     "metadata": {},
     "output_type": "execute_result"
    }
   ],
   "source": [
    "c.generator_matrix() * codeword"
   ]
  },
  {
   "cell_type": "code",
   "execution_count": 169,
   "id": "c096205f-1a24-4065-89f7-c291bc14efeb",
   "metadata": {},
   "outputs": [
    {
     "data": {
      "text/plain": [
       "(\n",
       "[1509949441 1509949441 1509949441 1509949441]              \n",
       "[1509949441   71215352  503316480 1942050569]              \n",
       "[1509949441  503316480 1509949441  503316480]              \n",
       "[1509949441 1942050569  503316480   71215352], (0, 1, 2, 3)\n",
       ")"
      ]
     },
     "execution_count": 169,
     "metadata": {},
     "output_type": "execute_result"
    }
   ],
   "source": [
    "e._unencoder_matrix()"
   ]
  },
  {
   "cell_type": "code",
   "execution_count": 171,
   "id": "8626a5b6-d0fc-4240-98cf-cb5710603dca",
   "metadata": {},
   "outputs": [
    {
     "data": {
      "text/plain": [
       "[1509949441 1509949441 1509949441 1509949441]\n",
       "[1509949441   71215352  503316480 1942050569]\n",
       "[1509949441  503316480 1509949441  503316480]\n",
       "[1509949441 1942050569  503316480   71215352]"
      ]
     },
     "execution_count": 171,
     "metadata": {},
     "output_type": "execute_result"
    }
   ],
   "source": [
    "c.generator_matrix().inverse()"
   ]
  },
  {
   "cell_type": "code",
   "execution_count": 159,
   "id": "2befd5f4-ede9-4b0c-be76-186c717db6fb",
   "metadata": {},
   "outputs": [
    {
     "data": {
      "text/plain": [
       "(1928653012, 1165738772, 678206814, 763383896)"
      ]
     },
     "execution_count": 159,
     "metadata": {},
     "output_type": "execute_result"
    }
   ],
   "source": [
    "c.generator_matrix().matrix_from_columns(range(4)).inverse() * codeword[:4]"
   ]
  },
  {
   "cell_type": "code",
   "execution_count": 172,
   "id": "1dcc4ab4-4c94-4674-ab4c-d6b953a6e29d",
   "metadata": {},
   "outputs": [
    {
     "data": {
      "text/plain": [
       "[1 0 0 0]\n",
       "[0 1 0 0]\n",
       "[0 0 1 0]\n",
       "[0 0 0 1]"
      ]
     },
     "execution_count": 172,
     "metadata": {},
     "output_type": "execute_result"
    }
   ],
   "source": [
    "c.generator_matrix().inverse() * c.generator_matrix()\n",
    "c.generator_matrix().inverse() * c.generator_matrix()"
   ]
  },
  {
   "cell_type": "code",
   "execution_count": 177,
   "id": "6e38e11e-636a-416b-a5f5-223e24a9131e",
   "metadata": {},
   "outputs": [
    {
     "data": {
      "text/plain": [
       "[1|0|0]\n",
       "[5|0|0]\n",
       "[-+-+-]\n",
       "[0|1|0]\n",
       "[0|5|0]\n",
       "[-+-+-]\n",
       "[0|0|1]\n",
       "[0|0|5]"
      ]
     },
     "execution_count": 177,
     "metadata": {},
     "output_type": "execute_result"
    }
   ],
   "source": [
    "matrix.block_diagonal([matrix.column(F, [1, 5])] * 3)"
   ]
  },
  {
   "cell_type": "code",
   "execution_count": 190,
   "id": "53c8a011-f4f9-4cad-84ba-8831a97d9d36",
   "metadata": {},
   "outputs": [
    {
     "data": {
      "text/plain": [
       "[         1 1889756441          0   18921224          0  987711737          0 1130142441]\n",
       "[         0 1130142441          1 1889756441          0   18921224          0  987711737]\n",
       "[         0  987711737          0 1130142441          1 1889756441          0   18921224]\n",
       "[         0   18921224          0  987711737          0 1130142441          1 1889756441]"
      ]
     },
     "execution_count": 190,
     "metadata": {},
     "output_type": "execute_result"
    }
   ],
   "source": [
    "idft_matrix(F, 2) * dft_matrix(F, 2, 1)"
   ]
  },
  {
   "cell_type": "code",
   "execution_count": 192,
   "id": "d7f03fd6-b0f3-43bf-9162-25175713c515",
   "metadata": {},
   "outputs": [
    {
     "data": {
      "text/plain": [
       "(379039706, 301809050, 147610513, 1927575377, 1922350520, 1480314799, 1335383054, 74684567)"
      ]
     },
     "execution_count": 192,
     "metadata": {},
     "output_type": "execute_result"
    }
   ],
   "source": [
    "lde = v * idft_matrix(F, 2) * dft_matrix(F, 2, 1); lde"
   ]
  },
  {
   "cell_type": "code",
   "execution_count": 198,
   "id": "cf9b59fa-9149-4529-b3aa-f46ce386dd72",
   "metadata": {},
   "outputs": [
    {
     "data": {
      "text/plain": [
       "(1318949920, 1815838602, 332778774, 1849156013)"
      ]
     },
     "execution_count": 198,
     "metadata": {},
     "output_type": "execute_result"
    }
   ],
   "source": [
    "lde2 = lde * idft_matrix(F, 3) * folding_matrix(F, 2, 5) * dft_matrix(F, 2); lde2"
   ]
  },
  {
   "cell_type": "code",
   "execution_count": 199,
   "id": "155bf21c-8886-4a38-98ed-aceaa887bdc9",
   "metadata": {},
   "outputs": [
    {
     "data": {
      "text/plain": [
       "(1278026291, 1278026291)"
      ]
     },
     "execution_count": 199,
     "metadata": {},
     "output_type": "execute_result"
    }
   ],
   "source": [
    "lde3 = lde2 * idft_matrix(F, 2) * folding_matrix(F, 1, 5) * dft_matrix(F, 1); lde3"
   ]
  },
  {
   "cell_type": "code",
   "execution_count": 200,
   "id": "ddae470f-8f37-41cd-8da0-67a8e0c1945a",
   "metadata": {},
   "outputs": [
    {
     "data": {
      "text/plain": [
       "[         3          0          0          0]\n",
       "[         0  477324976          0          0]\n",
       "[         0          0 1718786481          0]\n",
       "[         0          0          0 1052249268]\n",
       "[2013265919          0          0          0]\n",
       "[         0 1535940946          0          0]\n",
       "[         0          0  294479441          0]\n",
       "[         0          0          0  961016654]"
      ]
     },
     "execution_count": 200,
     "metadata": {},
     "output_type": "execute_result"
    }
   ],
   "source": [
    "idft_matrix(F, 3) * folding_matrix(F, 2, 5) * dft_matrix(F, 2)"
   ]
  },
  {
   "cell_type": "code",
   "execution_count": 80,
   "id": "6d18b83e-3e07-42f5-b1d4-3f92a492ff57",
   "metadata": {},
   "outputs": [
    {
     "data": {
      "text/plain": [
       "[         1          1          1          1]\n",
       "[         1 1728404513 2013265920  284861408]\n",
       "[         1 2013265920          1 2013265920]\n",
       "[         1  284861408 2013265920 1728404513]"
      ]
     },
     "execution_count": 80,
     "metadata": {},
     "output_type": "execute_result"
    }
   ],
   "source": [
    "c = codes.ReedSolomonCode(F, 4, 4); c.generator_matrix()"
   ]
  },
  {
   "cell_type": "code",
   "execution_count": 86,
   "id": "ac9780eb-3ca1-48ce-82b0-c06fcb9ed1a5",
   "metadata": {},
   "outputs": [
    {
     "data": {
      "text/plain": [
       "[         1          1          1          1]\n",
       "[         1 1728404513 2013265920  284861408]"
      ]
     },
     "execution_count": 86,
     "metadata": {},
     "output_type": "execute_result"
    }
   ],
   "source": [
    "c = codes.ReedSolomonCode(F, 4, 2); c.generator_matrix()"
   ]
  },
  {
   "cell_type": "code",
   "execution_count": 84,
   "id": "fbbae698-2585-42c4-a716-16001be39308",
   "metadata": {},
   "outputs": [
    {
     "data": {
      "text/plain": [
       "[         1          1          1          1          1          1          1          1]\n",
       "[         1 1592366214 1728404513  211723194 2013265920  420899707  284861408 1801542727]\n",
       "[         1 1728404513 2013265920  284861408          1 1728404513 2013265920  284861408]\n",
       "[         1  211723194  284861408 1592366214 2013265920 1801542727 1728404513  420899707]"
      ]
     },
     "execution_count": 84,
     "metadata": {},
     "output_type": "execute_result"
    }
   ],
   "source": [
    "c = codes.ReedSolomonCode(F, 8, 4); c.generator_matrix()"
   ]
  },
  {
   "cell_type": "code",
   "execution_count": 87,
   "id": "1493a514-a949-434c-9ebd-a6e97b132aab",
   "metadata": {},
   "outputs": [
    {
     "data": {
      "text/plain": [
       "[1 1]"
      ]
     },
     "execution_count": 87,
     "metadata": {},
     "output_type": "execute_result"
    }
   ],
   "source": [
    "G0 = codes.ReedSolomonCode(F, 2, 1).generator_matrix(); G0"
   ]
  },
  {
   "cell_type": "code",
   "execution_count": 97,
   "id": "c49456bf-ce7e-4d63-ab35-6948974f9a1d",
   "metadata": {},
   "outputs": [
    {
     "name": "stdout",
     "output_type": "stream",
     "text": [
      "[1, 1728404513, 2013265920, 284861408]\n"
     ]
    },
    {
     "data": {
      "text/plain": [
       "[         1          1|         1          1]\n",
       "[---------------------+---------------------]\n",
       "[         1 1728404513|2013265920  284861408]"
      ]
     },
     "execution_count": 97,
     "metadata": {},
     "output_type": "execute_result"
    }
   ],
   "source": [
    "sg = two_adic_subgroup(F, 2); print(sg)\n",
    "T1, T2 = matrix.diagonal(sg[:len(sg)/2]), matrix.diagonal(sg[len(sg)/2:])\n",
    "G1 = matrix.block([\n",
    "    [G0, G0],\n",
    "    [G0 * T1, G0 * T2],\n",
    "])\n",
    "G1"
   ]
  },
  {
   "cell_type": "code",
   "execution_count": 99,
   "id": "8815e2a9-b926-4b8f-8ec9-72257b9f1f14",
   "metadata": {},
   "outputs": [
    {
     "name": "stdout",
     "output_type": "stream",
     "text": [
      "[1, 1592366214, 1728404513, 211723194, 2013265920, 420899707, 284861408, 1801542727]\n"
     ]
    },
    {
     "data": {
      "text/plain": [
       "[         1          1          1          1          1          1          1          1]\n",
       "[         1 1728404513 2013265920  284861408          1 1728404513 2013265920  284861408]\n",
       "[         1 1592366214 1728404513  211723194 2013265920  420899707  284861408 1801542727]\n",
       "[         1  211723194  284861408 1592366214 2013265920 1801542727 1728404513  420899707]"
      ]
     },
     "execution_count": 99,
     "metadata": {},
     "output_type": "execute_result"
    }
   ],
   "source": [
    "sg = two_adic_subgroup(F, 3); print(sg)\n",
    "T1, T2 = matrix.diagonal(sg[:len(sg)/2]), matrix.diagonal(sg[len(sg)/2:])\n",
    "G2 = matrix.block([\n",
    "    [G1, G1],\n",
    "    [G1 * T1, G1 * T2],\n",
    "], subdivide=False)\n",
    "G2"
   ]
  },
  {
   "cell_type": "code",
   "execution_count": 108,
   "id": "5de9937d-8fcb-4281-8bbf-3e2bc63c801d",
   "metadata": {},
   "outputs": [
    {
     "name": "stdout",
     "output_type": "stream",
     "text": [
      "[1 1]\n",
      "[         1          1          1          1]\n",
      "[         1 1728404513 2013265920  284861408]\n",
      "[         1          1          1          1          1          1          1          1]\n",
      "[         1 1728404513 2013265920  284861408          1 1728404513 2013265920  284861408]\n",
      "[         1 1592366214 1728404513  211723194 2013265920  420899707  284861408 1801542727]\n",
      "[         1  211723194  284861408 1592366214 2013265920 1801542727 1728404513  420899707]\n"
     ]
    }
   ],
   "source": [
    "def rs_matrix(field, msg_bits, rate_bits):\n",
    "    if msg_bits == 0:\n",
    "        return matrix.ones(field, 1, 2^rate_bits)\n",
    "    inner = rs_matrix(field, msg_bits-1, rate_bits)\n",
    "    sg = two_adic_subgroup(field, msg_bits+rate_bits)\n",
    "    T1, T2 = [matrix.diagonal(d) for d in (sg[:len(sg)/2], sg[len(sg)/2:])]\n",
    "    return matrix.block([[inner, inner], [inner * T1, inner * T2]], subdivide=False)\n",
    "\n",
    "print(rs_matrix(F, 0, 1))\n",
    "print(rs_matrix(F, 1, 1))\n",
    "print(rs_matrix(F, 2, 1))"
   ]
  },
  {
   "cell_type": "code",
   "execution_count": 109,
   "id": "ee128deb-1c13-4129-b0e0-2b298ff780c3",
   "metadata": {},
   "outputs": [
    {
     "name": "stdout",
     "output_type": "stream",
     "text": [
      "[1 1 1 1]\n",
      "[         1          1          1          1          1          1          1          1]\n",
      "[         1 1592366214 1728404513  211723194 2013265920  420899707  284861408 1801542727]\n"
     ]
    }
   ],
   "source": [
    "print(rs_matrix(F, 0, 2))\n",
    "print(rs_matrix(F, 1, 2))"
   ]
  },
  {
   "cell_type": "code",
   "execution_count": null,
   "id": "c4838426-8686-4feb-a6b7-e8d66eb1160d",
   "metadata": {},
   "outputs": [],
   "source": []
  }
 ],
 "metadata": {
  "kernelspec": {
   "display_name": "SageMath 10.1",
   "language": "sage",
   "name": "sagemath-10.1"
  },
  "language_info": {
   "codemirror_mode": {
    "name": "ipython",
    "version": 3
   },
   "file_extension": ".py",
   "mimetype": "text/x-python",
   "name": "python",
   "nbconvert_exporter": "python",
   "pygments_lexer": "ipython3",
   "version": "3.11.1"
  }
 },
 "nbformat": 4,
 "nbformat_minor": 5
}
