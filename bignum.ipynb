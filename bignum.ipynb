{
 "cells": [
  {
   "cell_type": "code",
   "execution_count": 41,
   "id": "e318fd3e-0062-43cb-99e1-cf28285541a2",
   "metadata": {
    "tags": []
   },
   "outputs": [],
   "source": [
    "Z.<X> = ZZ[]\n",
    "F = GF(3*5*2^27+1)"
   ]
  },
  {
   "cell_type": "code",
   "execution_count": 20,
   "id": "254dcbe3-e69e-4a74-9823-7633d848e826",
   "metadata": {
    "tags": []
   },
   "outputs": [
    {
     "name": "stdout",
     "output_type": "stream",
     "text": [
      "188*X^2 + 97*X + 78\n"
     ]
    }
   ],
   "source": [
    "def mask(n_bits):\n",
    "    return (1 << n_bits) - 1\n",
    "def decomp(n, n_limbs, limb_bits):\n",
    "    p = 0\n",
    "    for i in range(n_limbs):\n",
    "        p += X^i * (n & mask(limb_bits))\n",
    "        n >>= limb_bits\n",
    "    return p\n",
    "p = decomp(12345678, n_limbs=4, limb_bits=8); print(p)\n",
    "assert p(2^8) == 12345678"
   ]
  },
  {
   "cell_type": "markdown",
   "id": "f9af1a9b-64a7-4279-befa-f9e7fb38a9de",
   "metadata": {},
   "source": [
    "hmm, you can either check the poly mod 2^32, or do a widening mul"
   ]
  },
  {
   "cell_type": "code",
   "execution_count": 54,
   "id": "efd4b361-97b4-4da9-b297-631b50a5185c",
   "metadata": {
    "tags": []
   },
   "outputs": [
    {
     "name": "stdout",
     "output_type": "stream",
     "text": [
      "3811512014 4212560312 820597264\n",
      "56977*X^6 + 16791*X^5 + 37463*X^4 + 100549*X^3 + 14977*X^2 + 32364*X + 37888\n",
      "16056224238066991104\n"
     ]
    }
   ],
   "source": [
    "# check the poly % 2^32\n",
    "LIMBS = dict(n_limbs=4, limb_bits=8)\n",
    "a, b = [randint(0, 2^32-1) for _ in range(2)]\n",
    "c = (a * b) % 2^32\n",
    "print(a, b, c)\n",
    "f = decomp(a, **LIMBS) * decomp(b, **LIMBS) - decomp(c, **LIMBS)\n",
    "print(f)\n",
    "print(f(2^8))\n",
    "# yes % 2^32 here\n",
    "assert f(2^8) % 2^32 == 0"
   ]
  },
  {
   "cell_type": "markdown",
   "id": "82430990-7fdf-4c67-82a0-8ec2c9984267",
   "metadata": {},
   "source": [
    "this doesnt seem to work:"
   ]
  },
  {
   "cell_type": "code",
   "execution_count": 55,
   "id": "511a4ef1-d223-4fb2-b6b5-f6db8563a8ac",
   "metadata": {
    "tags": []
   },
   "outputs": [
    {
     "data": {
      "text/plain": [
       "480504017"
      ]
     },
     "execution_count": 55,
     "metadata": {},
     "output_type": "execute_result"
    }
   ],
   "source": [
    "f.change_ring(F)(2^8)"
   ]
  },
  {
   "cell_type": "code",
   "execution_count": 81,
   "id": "93ec7941-2bf0-479c-b67b-95754734ff0a",
   "metadata": {
    "tags": []
   },
   "outputs": [
    {
     "name": "stdout",
     "output_type": "stream",
     "text": [
      "261505827213054352438808662556115414771 120148806299499634817305544703949791275 31419612980011687811533229999726740819910551628540678626237144626855501923025\n",
      "-1165418217*X^7 + 5005433125944513899*X^6 + 9591165911194570265*X^5 + 9325109733864827798*X^4 + 28062796145761574721*X^3 + 12082630851008796887*X^2 + 17109710619884152058*X + 11822963896849793024\n",
      "0\n"
     ]
    }
   ],
   "source": [
    "# c has twice as many limbs\n",
    "N_LIMBS = 4\n",
    "LIMB_BITS = 32\n",
    "LIMBS = dict(n_limbs=N_LIMBS, limb_bits=LIMB_BITS)\n",
    "a, b = [randint(0, 2^(N_LIMBS*LIMB_BITS)-1) for _ in range(2)]\n",
    "c = a * b\n",
    "print(a, b, c)\n",
    "f = decomp(a, **LIMBS) * decomp(b, **LIMBS) - decomp(c, n_limbs=N_LIMBS*2, limb_bits=LIMB_BITS)\n",
    "print(f)\n",
    "print(f(2^LIMB_BITS))\n",
    "# no % 2^32 here\n",
    "assert f(2^LIMB_BITS) == 0"
   ]
  },
  {
   "cell_type": "markdown",
   "id": "1a4897b9-e287-44a4-b3c5-c795e93b87c2",
   "metadata": {},
   "source": [
    "this does work:"
   ]
  },
  {
   "cell_type": "code",
   "execution_count": 83,
   "id": "7d9b0155-4f56-4681-b07b-c8ad7b664aaf",
   "metadata": {
    "tags": []
   },
   "outputs": [
    {
     "data": {
      "text/plain": [
       "0"
      ]
     },
     "execution_count": 83,
     "metadata": {},
     "output_type": "execute_result"
    }
   ],
   "source": [
    "f.change_ring(F)(2^LIMB_BITS)"
   ]
  },
  {
   "cell_type": "code",
   "execution_count": 65,
   "id": "d84939c1-81a4-4194-8d42-36bf795188f0",
   "metadata": {
    "tags": []
   },
   "outputs": [
    {
     "name": "stdout",
     "output_type": "stream",
     "text": [
      "-77*X^6 - 129*X^5 - 200*X^4 - 276*X^3 - 190*X^2 - 153*X - 75\n"
     ]
    },
    {
     "data": {
      "text/plain": [
       "1514173140"
      ]
     },
     "execution_count": 65,
     "metadata": {},
     "output_type": "execute_result"
    }
   ],
   "source": [
    "# do a probabilistic check\n",
    "# after committing a,b,c, challenge alpha:\n",
    "alpha = F.random_element()\n",
    "# verifier computes this quotient with constraints\n",
    "quotient = (f(X) - f(2^8))/(X - 2^8); print(quotient)\n",
    "quotient(alpha)"
   ]
  },
  {
   "cell_type": "code",
   "execution_count": null,
   "id": "a77138fb-ca8b-4ff1-a9d4-55ff2ce10e30",
   "metadata": {},
   "outputs": [],
   "source": []
  }
 ],
 "metadata": {
  "kernelspec": {
   "display_name": "SageMath 10.1",
   "language": "sage",
   "name": "sagemath-10.1"
  },
  "language_info": {
   "codemirror_mode": {
    "name": "ipython",
    "version": 3
   },
   "file_extension": ".py",
   "mimetype": "text/x-python",
   "name": "python",
   "nbconvert_exporter": "python",
   "pygments_lexer": "ipython3",
   "version": "3.11.1"
  }
 },
 "nbformat": 4,
 "nbformat_minor": 5
}
