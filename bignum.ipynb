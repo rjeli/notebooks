{
 "cells": [
  {
   "cell_type": "code",
   "execution_count": 92,
   "id": "e318fd3e-0062-43cb-99e1-cf28285541a2",
   "metadata": {
    "tags": []
   },
   "outputs": [],
   "source": [
    "Z.<X> = ZZ[]\n",
    "F = GF(3*5*2^27+1)"
   ]
  },
  {
   "cell_type": "code",
   "execution_count": 93,
   "id": "254dcbe3-e69e-4a74-9823-7633d848e826",
   "metadata": {
    "tags": []
   },
   "outputs": [
    {
     "name": "stdout",
     "output_type": "stream",
     "text": [
      "188*X^2 + 97*X + 78\n"
     ]
    }
   ],
   "source": [
    "def mask(n_bits):\n",
    "    return (1 << n_bits) - 1\n",
    "def decomp(n, n_limbs, limb_bits):\n",
    "    p = 0\n",
    "    for i in range(n_limbs):\n",
    "        p += X^i * (n & mask(limb_bits))\n",
    "        n >>= limb_bits\n",
    "    return p\n",
    "p = decomp(12345678, n_limbs=4, limb_bits=8); print(p)\n",
    "assert p(2^8) == 12345678"
   ]
  },
  {
   "cell_type": "markdown",
   "id": "f9af1a9b-64a7-4279-befa-f9e7fb38a9de",
   "metadata": {},
   "source": [
    "hmm, you can either check the poly mod 2^32, or do a widening mul"
   ]
  },
  {
   "cell_type": "code",
   "execution_count": 94,
   "id": "efd4b361-97b4-4da9-b297-631b50a5185c",
   "metadata": {
    "tags": []
   },
   "outputs": [
    {
     "name": "stdout",
     "output_type": "stream",
     "text": [
      "3095290879 2482047104 3261134720\n",
      "27048*X^6 + 62866*X^5 + 46391*X^4 + 85710*X^3 + 78279*X^2 + 14465*X + 32512\n",
      "7682657758998429696\n"
     ]
    }
   ],
   "source": [
    "# check the poly % 2^32\n",
    "LIMBS = dict(n_limbs=4, limb_bits=8)\n",
    "a, b = [randint(0, 2^32-1) for _ in range(2)]\n",
    "c = (a * b) % 2^32\n",
    "print(a, b, c)\n",
    "f = decomp(a, **LIMBS) * decomp(b, **LIMBS) - decomp(c, **LIMBS)\n",
    "print(f)\n",
    "print(f(2^8))\n",
    "# yes % 2^32 here\n",
    "assert f(2^8) % 2^32 == 0"
   ]
  },
  {
   "cell_type": "markdown",
   "id": "82430990-7fdf-4c67-82a0-8ec2c9984267",
   "metadata": {},
   "source": [
    "this doesnt seem to work:"
   ]
  },
  {
   "cell_type": "code",
   "execution_count": 95,
   "id": "511a4ef1-d223-4fb2-b6b5-f6db8563a8ac",
   "metadata": {
    "tags": []
   },
   "outputs": [
    {
     "data": {
      "text/plain": [
       "1821127190"
      ]
     },
     "execution_count": 95,
     "metadata": {},
     "output_type": "execute_result"
    }
   ],
   "source": [
    "f.change_ring(F)(2^8)"
   ]
  },
  {
   "cell_type": "code",
   "execution_count": 135,
   "id": "93ec7941-2bf0-479c-b67b-95754734ff0a",
   "metadata": {
    "tags": []
   },
   "outputs": [
    {
     "name": "stdout",
     "output_type": "stream",
     "text": [
      "3894059826 2496237861 9720499570660272186\n",
      "-134*X^7 + 34106*X^6 + 50442*X^5 + 62771*X^4 + 52345*X^3 + 34509*X^2 + 13049*X + 1792\n",
      "0\n"
     ]
    }
   ],
   "source": [
    "# c has twice as many limbs\n",
    "N_LIMBS = 4\n",
    "LIMB_BITS = 8\n",
    "BASE = 2^LIMB_BITS\n",
    "LIMBS = dict(n_limbs=N_LIMBS, limb_bits=LIMB_BITS)\n",
    "a, b = [randint(0, 2^(N_LIMBS*LIMB_BITS)-1) for _ in range(2)]\n",
    "c = a * b\n",
    "print(a, b, c)\n",
    "f = decomp(a, **LIMBS) * decomp(b, **LIMBS) - decomp(c, n_limbs=N_LIMBS*2, limb_bits=LIMB_BITS)\n",
    "print(f)\n",
    "print(f(2^LIMB_BITS))\n",
    "# no % 2^32 here\n",
    "assert f(2^LIMB_BITS) == 0"
   ]
  },
  {
   "cell_type": "markdown",
   "id": "1a4897b9-e287-44a4-b3c5-c795e93b87c2",
   "metadata": {},
   "source": [
    "this does work:"
   ]
  },
  {
   "cell_type": "code",
   "execution_count": 127,
   "id": "7d9b0155-4f56-4681-b07b-c8ad7b664aaf",
   "metadata": {
    "tags": []
   },
   "outputs": [
    {
     "name": "stdout",
     "output_type": "stream",
     "text": [
      "2013265828*X^7 + 23655*X^6 + 38991*X^5 + 45059*X^4 + 64656*X^3 + 28556*X^2 + 29657*X + 9984\n"
     ]
    },
    {
     "data": {
      "text/plain": [
       "0"
      ]
     },
     "execution_count": 127,
     "metadata": {},
     "output_type": "execute_result"
    }
   ],
   "source": [
    "print(f.change_ring(F))\n",
    "f.change_ring(F)(F(2^LIMB_BITS))"
   ]
  },
  {
   "cell_type": "markdown",
   "id": "4f22df99-1f31-4114-9735-83238450f99a",
   "metadata": {},
   "source": [
    "ignore this i dont know what im trying to do:"
   ]
  },
  {
   "cell_type": "code",
   "execution_count": 98,
   "id": "d84939c1-81a4-4194-8d42-36bf795188f0",
   "metadata": {
    "tags": []
   },
   "outputs": [
    {
     "name": "stdout",
     "output_type": "stream",
     "text": [
      "-3744017816*X^6 + 16080433111765628621*X^5 + 4138611844031229904897*X^4 + 1059501234597506613015472*X^3 + 271232349588386613662120970*X^2 + 69435481514457083073808164228*X + 17775483267710049216710111204365\n"
     ]
    },
    {
     "data": {
      "text/plain": [
       "1996620648"
      ]
     },
     "execution_count": 98,
     "metadata": {},
     "output_type": "execute_result"
    }
   ],
   "source": [
    "# do a probabilistic check\n",
    "# after committing a,b,c, challenge alpha:\n",
    "alpha = F.random_element()\n",
    "# verifier computes this quotient with constraints\n",
    "quotient = (f(X) - f(2^8))/(X - 2^8); print(quotient)\n",
    "quotient(alpha)"
   ]
  },
  {
   "cell_type": "code",
   "execution_count": 128,
   "id": "a77138fb-ca8b-4ff1-a9d4-55ff2ce10e30",
   "metadata": {
    "tags": []
   },
   "outputs": [],
   "source": [
    "def decomp_f(*args, **kwargs):\n",
    "    return decomp(*args, **kwargs).change_ring(F)"
   ]
  },
  {
   "cell_type": "code",
   "execution_count": 129,
   "id": "a190e412-9319-4d5a-9a18-221db000460b",
   "metadata": {
    "tags": []
   },
   "outputs": [
    {
     "data": {
      "text/plain": [
       "2013265828*X^7 + 23655*X^6 + 38991*X^5 + 45059*X^4 + 64656*X^3 + 28556*X^2 + 29657*X + 9984"
      ]
     },
     "execution_count": 129,
     "metadata": {},
     "output_type": "execute_result"
    }
   ],
   "source": [
    "ff = decomp_f(a, **LIMBS) * decomp_f(b, **LIMBS) - decomp_f(c, n_limbs=N_LIMBS*2, limb_bits=LIMB_BITS)\n",
    "ff"
   ]
  },
  {
   "cell_type": "code",
   "execution_count": 130,
   "id": "1f91266d-70f1-4d8e-832c-86c9856ba112",
   "metadata": {
    "tags": []
   },
   "outputs": [
    {
     "data": {
      "text/plain": [
       "0"
      ]
     },
     "execution_count": 130,
     "metadata": {},
     "output_type": "execute_result"
    }
   ],
   "source": [
    "ff(2^LIMB_BITS)"
   ]
  },
  {
   "cell_type": "code",
   "execution_count": 131,
   "id": "13af80d9-ed6e-4d81-9be2-477bdd1da7b5",
   "metadata": {},
   "outputs": [
    {
     "data": {
      "text/plain": [
       "Univariate Polynomial Ring in X over Integer Ring"
      ]
     },
     "execution_count": 131,
     "metadata": {},
     "output_type": "execute_result"
    }
   ],
   "source": [
    "f.parent()"
   ]
  },
  {
   "cell_type": "code",
   "execution_count": 132,
   "id": "d408bb4d-fec1-48a1-84ef-470e3f77dfce",
   "metadata": {
    "tags": []
   },
   "outputs": [
    {
     "data": {
      "text/plain": [
       "Univariate Polynomial Ring in X over Finite Field of size 2013265921"
      ]
     },
     "execution_count": 132,
     "metadata": {},
     "output_type": "execute_result"
    }
   ],
   "source": [
    "ff.parent()"
   ]
  },
  {
   "cell_type": "code",
   "execution_count": 133,
   "id": "86e0c1f1-aea9-4199-9d8d-5788e8add7f4",
   "metadata": {
    "tags": []
   },
   "outputs": [
    {
     "data": {
      "text/plain": [
       "[(256, 1)]"
      ]
     },
     "execution_count": 133,
     "metadata": {},
     "output_type": "execute_result"
    }
   ],
   "source": [
    "f.roots()"
   ]
  },
  {
   "cell_type": "code",
   "execution_count": 134,
   "id": "dd80729f-2a7a-4745-81dc-6568cc5e4add",
   "metadata": {
    "tags": []
   },
   "outputs": [
    {
     "data": {
      "text/plain": [
       "[(928398009, 1), (256, 1)]"
      ]
     },
     "execution_count": 134,
     "metadata": {},
     "output_type": "execute_result"
    }
   ],
   "source": [
    "ff.roots()"
   ]
  },
  {
   "cell_type": "code",
   "execution_count": 112,
   "id": "555f9b72-cb5b-4b9a-99fd-a6a33cfdf390",
   "metadata": {
    "tags": []
   },
   "outputs": [
    {
     "data": {
      "text/plain": [
       "268435454"
      ]
     },
     "execution_count": 112,
     "metadata": {},
     "output_type": "execute_result"
    }
   ],
   "source": [
    "F(4294967296)"
   ]
  },
  {
   "cell_type": "code",
   "execution_count": 114,
   "id": "79149a44-b839-4399-bfcb-7ccf8e605108",
   "metadata": {
    "tags": []
   },
   "outputs": [
    {
     "data": {
      "text/plain": [
       "0"
      ]
     },
     "execution_count": 114,
     "metadata": {},
     "output_type": "execute_result"
    }
   ],
   "source": [
    "F(f(268435454))"
   ]
  },
  {
   "cell_type": "code",
   "execution_count": 115,
   "id": "9c231bf5-965d-4a10-a14a-bc964c4555f0",
   "metadata": {
    "tags": []
   },
   "outputs": [
    {
     "data": {
      "text/plain": [
       "0"
      ]
     },
     "execution_count": 115,
     "metadata": {},
     "output_type": "execute_result"
    }
   ],
   "source": [
    "F(f(557631116))"
   ]
  },
  {
   "cell_type": "code",
   "execution_count": 116,
   "id": "f53a7e08-43b6-49b8-b368-3d41c6120bc5",
   "metadata": {
    "tags": []
   },
   "outputs": [
    {
     "data": {
      "text/plain": [
       "0"
      ]
     },
     "execution_count": 116,
     "metadata": {},
     "output_type": "execute_result"
    }
   ],
   "source": [
    "F(f(780709709))"
   ]
  },
  {
   "cell_type": "code",
   "execution_count": 138,
   "id": "592867d8-6189-40f0-8781-90e4df40aa30",
   "metadata": {
    "tags": []
   },
   "outputs": [
    {
     "data": {
      "text/plain": [
       "(232*X^3 + 26*X^2 + 163*X + 50,\n",
       " 148*X^3 + 201*X^2 + 145*X + 37,\n",
       " 134*X^7 + 230*X^6 + 38*X^5 + 219*X^4 + 172*X^3 + 138*X^2 + 232*X + 58)"
      ]
     },
     "execution_count": 138,
     "metadata": {},
     "output_type": "execute_result"
    }
   ],
   "source": [
    "ax = decomp_f(a, **LIMBS)\n",
    "bx = decomp_f(b, **LIMBS)\n",
    "cx = decomp_f(c, n_limbs=N_LIMBS*2, limb_bits=LIMB_BITS)\n",
    "ax, bx, cx"
   ]
  },
  {
   "cell_type": "code",
   "execution_count": 139,
   "id": "a17f92d2-4631-4547-86bf-7b8e53387885",
   "metadata": {
    "tags": []
   },
   "outputs": [
    {
     "data": {
      "text/plain": [
       "0"
      ]
     },
     "execution_count": 139,
     "metadata": {},
     "output_type": "execute_result"
    }
   ],
   "source": [
    "(ax * bx - cx)(2^LIMB_BITS)"
   ]
  },
  {
   "cell_type": "code",
   "execution_count": 140,
   "id": "67d09ce1-7706-4c39-b293-a9ddbe83f2a0",
   "metadata": {
    "tags": []
   },
   "outputs": [
    {
     "data": {
      "text/plain": [
       "[(1623187351, 1), (824694328, 1)]"
      ]
     },
     "execution_count": 140,
     "metadata": {},
     "output_type": "execute_result"
    }
   ],
   "source": [
    "(ax * bx).roots()"
   ]
  },
  {
   "cell_type": "code",
   "execution_count": 141,
   "id": "a9e0806e-24b4-4cbd-a6bb-88ecc2ef8166",
   "metadata": {
    "tags": []
   },
   "outputs": [
    {
     "data": {
      "text/plain": [
       "172*X^3 + 138*X^2 + 232*X + 58"
      ]
     },
     "execution_count": 141,
     "metadata": {},
     "output_type": "execute_result"
    }
   ],
   "source": [
    "cx[:4]"
   ]
  },
  {
   "cell_type": "code",
   "execution_count": 142,
   "id": "7cd84cd1-052b-4d76-bff1-bc95ddc80e22",
   "metadata": {
    "tags": []
   },
   "outputs": [
    {
     "data": {
      "text/plain": [
       "1690438863"
      ]
     },
     "execution_count": 142,
     "metadata": {},
     "output_type": "execute_result"
    }
   ],
   "source": [
    "(ax * bx)(BASE)"
   ]
  },
  {
   "cell_type": "code",
   "execution_count": 143,
   "id": "a6b8f150-7b8c-456f-974b-a078ef785bb2",
   "metadata": {
    "tags": []
   },
   "outputs": [],
   "source": [
    "fake_cx = 1690438863"
   ]
  },
  {
   "cell_type": "code",
   "execution_count": 144,
   "id": "1ab0b597-3a4e-4acc-8488-77db8089b5c9",
   "metadata": {
    "tags": []
   },
   "outputs": [
    {
     "data": {
      "text/plain": [
       "0"
      ]
     },
     "execution_count": 144,
     "metadata": {},
     "output_type": "execute_result"
    }
   ],
   "source": [
    "(ax * bx - fake_cx)(BASE)"
   ]
  },
  {
   "cell_type": "code",
   "execution_count": 145,
   "id": "c55bed46-d612-422b-97e5-eafa76b03462",
   "metadata": {
    "tags": []
   },
   "outputs": [
    {
     "data": {
      "text/plain": [
       "[(1089602605, 1), (256, 1)]"
      ]
     },
     "execution_count": 145,
     "metadata": {},
     "output_type": "execute_result"
    }
   ],
   "source": [
    "(ax * bx - cx).roots()"
   ]
  },
  {
   "cell_type": "code",
   "execution_count": 146,
   "id": "f28c2fe8-3579-430b-aee9-bbfb6373a572",
   "metadata": {
    "tags": []
   },
   "outputs": [
    {
     "data": {
      "text/plain": [
       "808920214"
      ]
     },
     "execution_count": 146,
     "metadata": {},
     "output_type": "execute_result"
    }
   ],
   "source": [
    "(ax * bx - cx[:4])(BASE)"
   ]
  },
  {
   "cell_type": "code",
   "execution_count": 147,
   "id": "66e4ce7d-3847-4053-8be5-41b24bde5833",
   "metadata": {
    "tags": []
   },
   "outputs": [
    {
     "data": {
      "text/plain": [
       "808920214"
      ]
     },
     "execution_count": 147,
     "metadata": {},
     "output_type": "execute_result"
    }
   ],
   "source": [
    "(cx - cx[:4])(BASE)"
   ]
  },
  {
   "cell_type": "code",
   "execution_count": 148,
   "id": "9a3a79eb-ce76-4c20-82be-a575ad6e40d0",
   "metadata": {
    "tags": []
   },
   "outputs": [
    {
     "data": {
      "text/plain": [
       "134*X^7 + 230*X^6 + 38*X^5 + 219*X^4"
      ]
     },
     "execution_count": 148,
     "metadata": {},
     "output_type": "execute_result"
    }
   ],
   "source": [
    "(cx - cx[:4])"
   ]
  },
  {
   "cell_type": "code",
   "execution_count": null,
   "id": "48012bb0-2dd7-4d6b-baa3-cfff90124dc4",
   "metadata": {},
   "outputs": [],
   "source": []
  }
 ],
 "metadata": {
  "kernelspec": {
   "display_name": "SageMath 10.1",
   "language": "sage",
   "name": "sagemath-10.1"
  },
  "language_info": {
   "codemirror_mode": {
    "name": "ipython",
    "version": 3
   },
   "file_extension": ".py",
   "mimetype": "text/x-python",
   "name": "python",
   "nbconvert_exporter": "python",
   "pygments_lexer": "ipython3",
   "version": "3.11.1"
  }
 },
 "nbformat": 4,
 "nbformat_minor": 5
}
