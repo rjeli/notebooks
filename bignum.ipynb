{
 "cells": [
  {
   "cell_type": "code",
   "execution_count": 41,
   "id": "e318fd3e-0062-43cb-99e1-cf28285541a2",
   "metadata": {
    "tags": []
   },
   "outputs": [],
   "source": [
    "Z.<X> = ZZ[]\n",
    "F = GF(3*5*2^27+1)"
   ]
  },
  {
   "cell_type": "code",
   "execution_count": 20,
   "id": "254dcbe3-e69e-4a74-9823-7633d848e826",
   "metadata": {
    "tags": []
   },
   "outputs": [
    {
     "name": "stdout",
     "output_type": "stream",
     "text": [
      "188*X^2 + 97*X + 78\n"
     ]
    }
   ],
   "source": [
    "def mask(n_bits):\n",
    "    return (1 << n_bits) - 1\n",
    "def decomp(n, n_limbs, limb_bits):\n",
    "    p = 0\n",
    "    for i in range(n_limbs):\n",
    "        p += X^i * (n & mask(limb_bits))\n",
    "        n >>= limb_bits\n",
    "    return p\n",
    "p = decomp(12345678, n_limbs=4, limb_bits=8); print(p)\n",
    "assert p(2^8) == 12345678"
   ]
  },
  {
   "cell_type": "markdown",
   "id": "f9af1a9b-64a7-4279-befa-f9e7fb38a9de",
   "metadata": {},
   "source": [
    "hmm, you can either check the poly mod 2^32, or do a widening mul"
   ]
  },
  {
   "cell_type": "code",
   "execution_count": 54,
   "id": "efd4b361-97b4-4da9-b297-631b50a5185c",
   "metadata": {
    "tags": []
   },
   "outputs": [
    {
     "name": "stdout",
     "output_type": "stream",
     "text": [
      "3811512014 4212560312 820597264\n",
      "56977*X^6 + 16791*X^5 + 37463*X^4 + 100549*X^3 + 14977*X^2 + 32364*X + 37888\n",
      "16056224238066991104\n"
     ]
    }
   ],
   "source": [
    "# check the poly % 2^32\n",
    "LIMBS = dict(n_limbs=4, limb_bits=8)\n",
    "a, b = [randint(0, 2^32-1) for _ in range(2)]\n",
    "c = (a * b) % 2^32\n",
    "print(a, b, c)\n",
    "f = decomp(a, **LIMBS) * decomp(b, **LIMBS) - decomp(c, **LIMBS)\n",
    "print(f)\n",
    "print(f(2^8))\n",
    "# yes % 2^32 here\n",
    "assert f(2^8) % 2^32 == 0"
   ]
  },
  {
   "cell_type": "markdown",
   "id": "82430990-7fdf-4c67-82a0-8ec2c9984267",
   "metadata": {},
   "source": [
    "this doesnt seem to work:"
   ]
  },
  {
   "cell_type": "code",
   "execution_count": 55,
   "id": "511a4ef1-d223-4fb2-b6b5-f6db8563a8ac",
   "metadata": {
    "tags": []
   },
   "outputs": [
    {
     "data": {
      "text/plain": [
       "480504017"
      ]
     },
     "execution_count": 55,
     "metadata": {},
     "output_type": "execute_result"
    }
   ],
   "source": [
    "f.change_ring(F)(2^8)"
   ]
  },
  {
   "cell_type": "code",
   "execution_count": 56,
   "id": "93ec7941-2bf0-479c-b67b-95754734ff0a",
   "metadata": {
    "tags": []
   },
   "outputs": [
    {
     "name": "stdout",
     "output_type": "stream",
     "text": [
      "3646531742 1534228090 5594611429653032780\n",
      "-77*X^7 + 19583*X^6 + 32824*X^5 + 50924*X^4 + 70466*X^3 + 48487*X^2 + 39093*X + 19200\n",
      "0\n"
     ]
    }
   ],
   "source": [
    "# c has twice as many limbs\n",
    "LIMBS = dict(n_limbs=4, limb_bits=8)\n",
    "a, b = [randint(0, 2^32-1) for _ in range(2)]\n",
    "c = a * b\n",
    "print(a, b, c)\n",
    "f = decomp(a, **LIMBS) * decomp(b, **LIMBS) - decomp(c, n_limbs=8, limb_bits=8)\n",
    "print(f)\n",
    "print(f(2^8))\n",
    "# no % 2^32 here\n",
    "assert f(2^8) == 0"
   ]
  },
  {
   "cell_type": "markdown",
   "id": "1a4897b9-e287-44a4-b3c5-c795e93b87c2",
   "metadata": {},
   "source": [
    "this does work:"
   ]
  },
  {
   "cell_type": "code",
   "execution_count": 57,
   "id": "7d9b0155-4f56-4681-b07b-c8ad7b664aaf",
   "metadata": {
    "tags": []
   },
   "outputs": [
    {
     "data": {
      "text/plain": [
       "0"
      ]
     },
     "execution_count": 57,
     "metadata": {},
     "output_type": "execute_result"
    }
   ],
   "source": [
    "f.change_ring(F)(2^8)"
   ]
  },
  {
   "cell_type": "code",
   "execution_count": null,
   "id": "d84939c1-81a4-4194-8d42-36bf795188f0",
   "metadata": {},
   "outputs": [],
   "source": []
  }
 ],
 "metadata": {
  "kernelspec": {
   "display_name": "SageMath 10.1",
   "language": "sage",
   "name": "sagemath-10.1"
  },
  "language_info": {
   "codemirror_mode": {
    "name": "ipython",
    "version": 3
   },
   "file_extension": ".py",
   "mimetype": "text/x-python",
   "name": "python",
   "nbconvert_exporter": "python",
   "pygments_lexer": "ipython3",
   "version": "3.11.1"
  }
 },
 "nbformat": 4,
 "nbformat_minor": 5
}
