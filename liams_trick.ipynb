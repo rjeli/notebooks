{
 "cells": [
  {
   "cell_type": "code",
   "execution_count": 1,
   "id": "a93a21ac-36d1-49c6-907a-e288ed699254",
   "metadata": {
    "tags": []
   },
   "outputs": [
    {
     "name": "stdout",
     "output_type": "stream",
     "text": [
      "┌────────────────────────────────────────────────────────────────────┐\n",
      "│ SageMath version 10.1, Release Date: 2023-08-20                    │\n",
      "│ Using Python 3.11.1. Type \"help()\" for help.                       │\n",
      "└────────────────────────────────────────────────────────────────────┘\n"
     ]
    }
   ],
   "source": [
    "import sage.misc.banner; sage.misc.banner.banner()"
   ]
  },
  {
   "cell_type": "code",
   "execution_count": 3,
   "id": "d435bbf3-dc55-40ac-ba74-4ad64a3cb832",
   "metadata": {
    "tags": []
   },
   "outputs": [
    {
     "name": "stdout",
     "output_type": "stream",
     "text": [
      "2013265921\n"
     ]
    }
   ],
   "source": [
    "p = 15*2^27+1; print(p)\n",
    "F = GF(p)\n",
    "R.<x> = F[]\n",
    "FE.<u> = F.extension(x^4 - 11)\n",
    "Q.<v> = FE[]"
   ]
  },
  {
   "cell_type": "code",
   "execution_count": 4,
   "id": "a3835f27-5cff-468e-9413-b3216cf1ca4f",
   "metadata": {
    "tags": []
   },
   "outputs": [
    {
     "data": {
      "text/plain": [
       "27"
      ]
     },
     "execution_count": 4,
     "metadata": {},
     "output_type": "execute_result"
    }
   ],
   "source": [
    "two_adicity = dict(factor(p-1))[2]; two_adicity"
   ]
  },
  {
   "cell_type": "code",
   "execution_count": 5,
   "id": "f2666cb7-10d5-4ad9-a752-424922bae3e5",
   "metadata": {
    "tags": []
   },
   "outputs": [
    {
     "name": "stdout",
     "output_type": "stream",
     "text": [
      "31\n",
      "440564289\n"
     ]
    },
    {
     "data": {
      "text/plain": [
       "2^27"
      ]
     },
     "execution_count": 5,
     "metadata": {},
     "output_type": "execute_result"
    }
   ],
   "source": [
    "g = F.multiplicative_generator(); print(g)\n",
    "g2 = g^((p-1)/2^two_adicity); print(g2)\n",
    "factor(g2.multiplicative_order())"
   ]
  },
  {
   "cell_type": "code",
   "execution_count": 6,
   "id": "72fdfc75-9752-4bd6-aa48-644f622751bf",
   "metadata": {
    "tags": []
   },
   "outputs": [],
   "source": [
    "def two_adic_gen(size_bits):\n",
    "    return g2^(two_adicity - size_bits)\n",
    "def two_adic_subgroup(size_bits):\n",
    "    return two_adic_gen(size_bits).powers(2^size_bits)"
   ]
  },
  {
   "cell_type": "code",
   "execution_count": 7,
   "id": "2d1105bc-4f21-4c0d-80c8-5235ad107b64",
   "metadata": {
    "tags": []
   },
   "outputs": [],
   "source": [
    "def dft(poly, added_bits=0, shift=1):\n",
    "    len_bits = log(poly.degree() + 1, 2) + added_bits\n",
    "    dom = [shift * (g2^(two_adicity - len_bits))^i for i in range(2^len_bits)]\n",
    "    return [poly(x) for x in dom]"
   ]
  },
  {
   "cell_type": "code",
   "execution_count": 8,
   "id": "a40efe29-3a8a-4244-a20e-1bb3057f343f",
   "metadata": {
    "tags": []
   },
   "outputs": [],
   "source": [
    "def idft(evals, shift=1):\n",
    "    len_bits = log(len(evals), 2)\n",
    "    dom = [shift * (g2^(two_adicity - len_bits))^i for i in range(2^len_bits)]\n",
    "    return evals[0].parent().polynomial_ring().lagrange_polynomial(zip(dom, evals))"
   ]
  },
  {
   "cell_type": "code",
   "execution_count": 9,
   "id": "f1f5f017-bc3b-4acc-887c-e72155c4b1b0",
   "metadata": {
    "tags": []
   },
   "outputs": [],
   "source": [
    "LEN_BITS = 4\n",
    "LEN = 1 << LEN_BITS\n",
    "DEG = LEN - 1"
   ]
  },
  {
   "cell_type": "code",
   "execution_count": 126,
   "id": "6a0ce033-45aa-416d-8931-efc20b0dd90c",
   "metadata": {
    "tags": []
   },
   "outputs": [
    {
     "data": {
      "text/plain": [
       "965207358*x^15 + 1786849254*x^14 + 1791697776*x^13 + 464349102*x^12 + 1808633257*x^11 + 712419247*x^10 + 1665100900*x^9 + 1842107603*x^8 + 854659407*x^7 + 669364161*x^6 + 1128439517*x^5 + 1231558625*x^4 + 1655300014*x^3 + 176232450*x^2 + 1231326767*x + 952380526"
      ]
     },
     "execution_count": 126,
     "metadata": {},
     "output_type": "execute_result"
    }
   ],
   "source": [
    "d = FE.degree()\n",
    "D = 15\n",
    "poly = R.random_element(D); poly"
   ]
  },
  {
   "cell_type": "code",
   "execution_count": 127,
   "id": "f6424fe4-5cb0-457b-a591-59cb9afdb778",
   "metadata": {
    "tags": []
   },
   "outputs": [],
   "source": [
    "alpha = FE.random_element()"
   ]
  },
  {
   "cell_type": "code",
   "execution_count": 128,
   "id": "7a81ceeb-d92a-46f6-a479-3355a186ee15",
   "metadata": {
    "tags": []
   },
   "outputs": [],
   "source": [
    "def old_quotient_poly(poly, alpha, poly_at_alpha):\n",
    "    return (poly - poly_at_alpha) / (x - alpha)\n",
    "\n",
    "good_qp = old_quotient_poly(poly, alpha, poly(alpha))\n",
    "assert good_qp.is_integral() and good_qp.numerator().degree() == D - 1\n",
    "\n",
    "bad_qp = old_quotient_poly(poly, alpha, poly(alpha) + 1)\n",
    "assert not bad_qp.is_integral()"
   ]
  },
  {
   "cell_type": "code",
   "execution_count": 129,
   "id": "b39609a9-dc0c-41c9-a9ad-a449270cba6a",
   "metadata": {
    "tags": []
   },
   "outputs": [],
   "source": [
    "# Liam's trick\n",
    "\n",
    "# prover and verifier compute m(X)\n",
    "m = minpoly(alpha)\n",
    "assert m.degree() == d and m.is_monic()\n",
    "\n",
    "# prover provides r(X)\n",
    "r = poly % m\n",
    "assert r.degree() == d - 1\n",
    "\n",
    "# ldt\n",
    "qp = (poly - r) / m\n",
    "assert qp.is_integral() and qp.numerator().degree() == D - d\n",
    "\n",
    "# ood check\n",
    "assert r(alpha) == poly(alpha)"
   ]
  },
  {
   "cell_type": "code",
   "execution_count": 130,
   "id": "2ffabb94-b6a2-4234-ae66-813f6c7b27eb",
   "metadata": {
    "tags": []
   },
   "outputs": [],
   "source": [
    "assert r(alpha.frobenius()) == poly(alpha.frobenius())"
   ]
  },
  {
   "cell_type": "code",
   "execution_count": 131,
   "id": "cc966fd0-c96b-497b-80cf-7e90b9513bc3",
   "metadata": {
    "tags": []
   },
   "outputs": [
    {
     "data": {
      "text/plain": [
       "357547801*x^3 + 925973360*x^2 + 452312119*x + 1614737475"
      ]
     },
     "execution_count": 131,
     "metadata": {},
     "output_type": "execute_result"
    }
   ],
   "source": [
    "r"
   ]
  },
  {
   "cell_type": "code",
   "execution_count": 132,
   "id": "65cfe124-d9f7-4448-aa8c-c6b9171b794b",
   "metadata": {
    "tags": []
   },
   "outputs": [],
   "source": [
    "# O(D ~d^2)\n",
    "p_a = poly(alpha)\n",
    "# O(d^2)\n",
    "r = Q.lagrange_polynomial([(alpha.frobenius(i), p_a.frobenius(i)) for i in range(d)])\n",
    "assert r.change_ring(F).change_variable_name(x) == (poly % m)"
   ]
  },
  {
   "cell_type": "code",
   "execution_count": 133,
   "id": "8c234414-74d3-4cee-918a-b24743fe8c5f",
   "metadata": {
    "tags": []
   },
   "outputs": [
    {
     "data": {
      "text/plain": [
       "1264455760*u^3 + 827593842*u^2 + 277371702*u + 1455741459"
      ]
     },
     "execution_count": 133,
     "metadata": {},
     "output_type": "execute_result"
    }
   ],
   "source": [
    "alpha"
   ]
  },
  {
   "cell_type": "code",
   "execution_count": 134,
   "id": "f906d0be-18f3-4ac4-a2d0-7939c4fc49b3",
   "metadata": {
    "tags": []
   },
   "outputs": [
    {
     "data": {
      "text/plain": [
       "1151226591*u^3 + 976625391*u^2 + 913580271*u + 43457219"
      ]
     },
     "execution_count": 134,
     "metadata": {},
     "output_type": "execute_result"
    }
   ],
   "source": [
    "p_a"
   ]
  },
  {
   "cell_type": "code",
   "execution_count": 135,
   "id": "746f3e9b-5b9d-4b6d-8cf1-8f5b6a6f3376",
   "metadata": {
    "tags": []
   },
   "outputs": [
    {
     "data": {
      "text/plain": [
       "[1264455760*u^3 + 827593842*u^2 + 277371702*u + 1455741459,\n",
       " 36126823*u^3 + 1185672079*u^2 + 1849141035*u + 1455741459,\n",
       " 748810161*u^3 + 827593842*u^2 + 1735894219*u + 1455741459,\n",
       " 1977139098*u^3 + 1185672079*u^2 + 164124886*u + 1455741459]"
      ]
     },
     "execution_count": 135,
     "metadata": {},
     "output_type": "execute_result"
    }
   ],
   "source": [
    "def frobs(x):\n",
    "    return [x.frobenius(i) for i in range(x.parent().degree())]\n",
    "frobs(alpha)"
   ]
  },
  {
   "cell_type": "code",
   "execution_count": 137,
   "id": "780846a7-4ea5-4a54-8ec0-4f8c86f6b91d",
   "metadata": {},
   "outputs": [
    {
     "name": "stdout",
     "output_type": "stream",
     "text": [
      "0 (616141894*u^3 + 1858831400*u^2 + 1578015625*u + 1599336391)*v^3 + (688248041*u^3 + 1070808247*u^2 + 1927894725*u + 231493340)*v^2 + (2005622016*u^3 + 615181997*u^2 + 862601011*u + 616394510)*v + 665125299*u^3 + 1939317420*u^2 + 151422267*u + 907000849\n",
      "1 (183766845*u^3 + 154434521*u^2 + 800365690*u + 1599336391)*v^3 + (1768339845*u^3 + 942457674*u^2 + 1299511171*u + 231493340)*v^2 + (255737073*u^3 + 1398083924*u^2 + 474191180*u + 616394510)*v + 866677836*u^3 + 73948501*u^2 + 1092601613*u + 907000849\n",
      "2 (1397124027*u^3 + 1858831400*u^2 + 435250296*u + 1599336391)*v^3 + (1325017880*u^3 + 1070808247*u^2 + 85371196*u + 231493340)*v^2 + (7643905*u^3 + 615181997*u^2 + 1150664910*u + 616394510)*v + 1348140622*u^3 + 1939317420*u^2 + 1861843654*u + 907000849\n",
      "3 (1829499076*u^3 + 154434521*u^2 + 1212900231*u + 1599336391)*v^3 + (244926076*u^3 + 942457674*u^2 + 713754750*u + 231493340)*v^2 + (1757528848*u^3 + 1398083924*u^2 + 1539074741*u + 616394510)*v + 1146588085*u^3 + 73948501*u^2 + 920664308*u + 907000849\n",
      "\n",
      "0 (616141894*u^3 + 1858831400*u^2 + 1578015625*u + 1599336391)*x^3 + (688248041*u^3 + 1070808247*u^2 + 1927894725*u + 231493340)*x^2 + (2005622016*u^3 + 615181997*u^2 + 862601011*u + 616394510)*x + 665125299*u^3 + 1939317420*u^2 + 151422267*u + 907000849\n",
      "1 (183766845*u^3 + 154434521*u^2 + 800365690*u + 1599336391)*x^3 + (1768339845*u^3 + 942457674*u^2 + 1299511171*u + 231493340)*x^2 + (255737073*u^3 + 1398083924*u^2 + 474191180*u + 616394510)*x + 866677836*u^3 + 73948501*u^2 + 1092601613*u + 907000849\n",
      "2 (1397124027*u^3 + 1858831400*u^2 + 435250296*u + 1599336391)*x^3 + (1325017880*u^3 + 1070808247*u^2 + 85371196*u + 231493340)*x^2 + (7643905*u^3 + 615181997*u^2 + 1150664910*u + 616394510)*x + 1348140622*u^3 + 1939317420*u^2 + 1861843654*u + 907000849\n",
      "3 (1829499076*u^3 + 154434521*u^2 + 1212900231*u + 1599336391)*x^3 + (244926076*u^3 + 942457674*u^2 + 713754750*u + 231493340)*x^2 + (1757528848*u^3 + 1398083924*u^2 + 1539074741*u + 616394510)*x + 1146588085*u^3 + 73948501*u^2 + 920664308*u + 907000849\n"
     ]
    }
   ],
   "source": [
    "'''\n",
    "L(x) = sum(y_i l_i(x))\n",
    "l_i(x) = l(x) * w_i / (x - x_i)\n",
    "l(x) = prod(x - x_i)\n",
    "so\n",
    "L(x) = l(x) sum(y_i * w_i / (x - x_i))\n",
    "'''\n",
    "def l(xs, i):\n",
    "    x = polygen(xs[0])\n",
    "    return prod(\n",
    "        (x - xs[j]) / (xs[i] - xs[j])\n",
    "        for j in range(len(xs))\n",
    "        if i != j\n",
    "    )\n",
    "\n",
    "G = FE.galois_group()\n",
    "\n",
    "xs = frobs(alpha)\n",
    "ys = frobs(p_a)\n",
    "for i in range(len(xs)):\n",
    "    l_i = l(xs, i)\n",
    "    \n",
    "    for j in range(len(xs)):\n",
    "        if i == j:\n",
    "            assert l_i(xs[j]) == 1\n",
    "        else:\n",
    "            assert l_i(xs[j]) == 0\n",
    "    \n",
    "    if i == 0:\n",
    "        for k in range(len(xs)):\n",
    "            print(k, Q([G[k](coeff) for coeff in (ys[i] * l_i).coefficients()]))\n",
    "        print()\n",
    "    \n",
    "    print(i, ys[i] * l_i)\n",
    "    #print(G[0](ys[i] * l_i))"
   ]
  },
  {
   "cell_type": "code",
   "execution_count": 138,
   "id": "9361aed3-37f1-4add-a1ca-169bef7f577a",
   "metadata": {
    "tags": []
   },
   "outputs": [
    {
     "data": {
      "text/plain": [
       "357547801*x^3 + 925973360*x^2 + 452312119*x + 1614737475"
      ]
     },
     "execution_count": 138,
     "metadata": {},
     "output_type": "execute_result"
    }
   ],
   "source": [
    "def interp_naive(xs, ys):\n",
    "    return sum(ys[i] * l(xs, i) for i in range(len(xs)))\n",
    "\n",
    "interp_naive(frobs(alpha), frobs(p_a))"
   ]
  },
  {
   "cell_type": "code",
   "execution_count": 136,
   "id": "e9a5291d-6e7e-4bc9-b035-40da7077a018",
   "metadata": {
    "tags": []
   },
   "outputs": [
    {
     "data": {
      "text/plain": [
       "[1614737475, 452312119, 925973360, 357547801]"
      ]
     },
     "execution_count": 136,
     "metadata": {},
     "output_type": "execute_result"
    }
   ],
   "source": [
    "def interp_ref(xs, ys):\n",
    "    r = Q.lagrange_polynomial(zip(xs, ys))\n",
    "    return [F(c) for c in r.coefficients()]\n",
    "\n",
    "interp_ref(frobs(alpha), frobs(p_a))"
   ]
  },
  {
   "cell_type": "code",
   "execution_count": 167,
   "id": "9427f620-d190-4bfe-aa81-31a5f281101c",
   "metadata": {
    "tags": []
   },
   "outputs": [],
   "source": [
    "def binomial_expand(xs):\n",
    "    coeffs = [1] + [0] * len(xs)\n",
    "    for i, x in enumerate(xs):\n",
    "        for j in range(i+1, 0, -1):\n",
    "            coeffs[j] = coeffs[j-1] - x * coeffs[j]\n",
    "        coeffs[0] *= -x\n",
    "    return coeffs\n",
    "\n",
    "def precompute(alpha):\n",
    "    xs = frobs(alpha)\n",
    "    w_alpha = prod(xs[0] - xs[i] for i in range(1, len(xs)))\n",
    "    return [c / w_alpha for c in binomial_expand(xs[1:])]\n",
    "\n",
    "def interp_smart(alpha, p_alpha):\n",
    "    n = alpha.parent().degree()\n",
    "    l_alpha = precompute(alpha)\n",
    "    \n",
    "    L_alpha = [p_alpha * c for c in l_alpha]\n",
    "    poly = L_alpha\n",
    "    \n",
    "    for i in range(1, n):\n",
    "        L_alpha = [c.frobenius() for c in L_alpha]\n",
    "        poly = [a + b for (a, b) in zip(poly, L_alpha)]\n",
    "    \n",
    "    return poly\n",
    "\n",
    "pp = interp_smart(alpha, p_a)\n",
    "assert pp == interp_ref(frobs(alpha), frobs(p_a))"
   ]
  },
  {
   "cell_type": "code",
   "execution_count": 155,
   "id": "9435b682-a65b-476c-a40c-451553f77792",
   "metadata": {
    "tags": []
   },
   "outputs": [
    {
     "data": {
      "text/plain": [
       "[1]"
      ]
     },
     "execution_count": 155,
     "metadata": {},
     "output_type": "execute_result"
    }
   ],
   "source": [
    "list(range(1,0,-1))"
   ]
  },
  {
   "cell_type": "code",
   "execution_count": 101,
   "id": "8d451bf4-18ba-4de0-8b82-a87a05f24490",
   "metadata": {
    "tags": []
   },
   "outputs": [],
   "source": [
    "#ws = [1/prod(xs[i] - xs[j] for j in range(n) if i != j) for i in range(n)]\n",
    "#print(len(ws))\n",
    "#print(ws[0].parent())"
   ]
  },
  {
   "cell_type": "code",
   "execution_count": 114,
   "id": "6c2519cc-2bde-4e30-9e28-5728869e0b81",
   "metadata": {
    "tags": []
   },
   "outputs": [
    {
     "ename": "NameError",
     "evalue": "name 'L_alpha' is not defined",
     "output_type": "error",
     "traceback": [
      "\u001b[0;31m---------------------------------------------------------------------------\u001b[0m",
      "\u001b[0;31mNameError\u001b[0m                                 Traceback (most recent call last)",
      "Cell \u001b[0;32mIn [114], line 1\u001b[0m\n\u001b[0;32m----> 1\u001b[0m \u001b[43mL_alpha\u001b[49m\n",
      "\u001b[0;31mNameError\u001b[0m: name 'L_alpha' is not defined"
     ]
    }
   ],
   "source": [
    "L_alpha"
   ]
  },
  {
   "cell_type": "code",
   "execution_count": 80,
   "id": "fd01022d-5fc3-4b1b-bedd-e60366b28bf8",
   "metadata": {
    "tags": []
   },
   "outputs": [
    {
     "data": {
      "text/plain": [
       "1659244056*x^3 + 166059883*x^2 + 690758274*x + 1383548857"
      ]
     },
     "execution_count": 80,
     "metadata": {},
     "output_type": "execute_result"
    }
   ],
   "source": [
    "r = poly % m; r"
   ]
  },
  {
   "cell_type": "code",
   "execution_count": 81,
   "id": "76821f1b-a4b7-4c0f-ba15-e9464f6ff41a",
   "metadata": {
    "tags": []
   },
   "outputs": [],
   "source": [
    "assert r(alpha) == poly(alpha)"
   ]
  },
  {
   "cell_type": "code",
   "execution_count": 90,
   "id": "d40c00f7-8e49-4cc9-8ea4-6093ed7eed64",
   "metadata": {
    "tags": []
   },
   "outputs": [
    {
     "name": "stdout",
     "output_type": "stream",
     "text": [
      "[1886345149, 1884148850, 742119584, 1791904383, 531044336, 79323216, 775959677, 936277647, 420863385, 1125218146, 1333955626, 702806318, 525901186, 1438232529, 106639216, 875576678]\n"
     ]
    }
   ],
   "source": [
    "ys = [r(x) for x in two_adic_subgroup(4)]; print(ys)"
   ]
  },
  {
   "cell_type": "code",
   "execution_count": 59,
   "id": "5d6701c1-347b-4897-91ed-670c5dba42c7",
   "metadata": {
    "tags": []
   },
   "outputs": [
    {
     "data": {
      "text/plain": [
       "[0, 1, 2]"
      ]
     },
     "execution_count": 59,
     "metadata": {},
     "output_type": "execute_result"
    }
   ],
   "source": [
    "[x for x in range(3)]"
   ]
  },
  {
   "cell_type": "code",
   "execution_count": 85,
   "id": "f21a5712-cc01-42f1-9501-c324b3e17123",
   "metadata": {
    "tags": []
   },
   "outputs": [
    {
     "data": {
      "text/plain": [
       "[1,\n",
       " 1474969731,\n",
       " 1498750007,\n",
       " 1466872449,\n",
       " 723613219,\n",
       " 1896673953,\n",
       " 1906280669,\n",
       " 10355940,\n",
       " 1175043036,\n",
       " 1572493914,\n",
       " 747363527,\n",
       " 1225193342,\n",
       " 572243252,\n",
       " 1611250077,\n",
       " 830937851,\n",
       " 688293274]"
      ]
     },
     "execution_count": 85,
     "metadata": {},
     "output_type": "execute_result"
    }
   ],
   "source": [
    "two_adic_subgroup(4)"
   ]
  },
  {
   "cell_type": "code",
   "execution_count": 89,
   "id": "695c6fd1-d631-4cf0-b08f-1f2677772527",
   "metadata": {
    "tags": []
   },
   "outputs": [
    {
     "data": {
      "text/plain": [
       "[1861356301*u^3 + 1147371388*u^2 + 52573771*u + 480637679,\n",
       " 1808942986*u^3 + 865894533*u^2 + 1823620891*u + 480637679,\n",
       " 151909620*u^3 + 1147371388*u^2 + 1960692150*u + 480637679,\n",
       " 204322935*u^3 + 865894533*u^2 + 189645030*u + 480637679,\n",
       " 1861356301*u^3 + 1147371388*u^2 + 52573771*u + 480637679,\n",
       " 1808942986*u^3 + 865894533*u^2 + 1823620891*u + 480637679,\n",
       " 151909620*u^3 + 1147371388*u^2 + 1960692150*u + 480637679,\n",
       " 204322935*u^3 + 865894533*u^2 + 189645030*u + 480637679,\n",
       " 1861356301*u^3 + 1147371388*u^2 + 52573771*u + 480637679,\n",
       " 1808942986*u^3 + 865894533*u^2 + 1823620891*u + 480637679]"
      ]
     },
     "execution_count": 89,
     "metadata": {},
     "output_type": "execute_result"
    }
   ],
   "source": [
    "z = FE.random_element()\n",
    "[z.frobenius(i) for i in range(10)]"
   ]
  },
  {
   "cell_type": "code",
   "execution_count": 95,
   "id": "2e3d5117-15ca-4e75-92d8-b323544fca71",
   "metadata": {
    "tags": []
   },
   "outputs": [
    {
     "data": {
      "text/plain": [
       "1"
      ]
     },
     "execution_count": 95,
     "metadata": {},
     "output_type": "execute_result"
    }
   ],
   "source": [
    "G[0]"
   ]
  },
  {
   "cell_type": "code",
   "execution_count": 116,
   "id": "1a076a92-a3c5-46f0-bf3a-ff009052b0bf",
   "metadata": {
    "tags": []
   },
   "outputs": [
    {
     "data": {
      "text/plain": [
       "3*v^2 + 2*v + 1"
      ]
     },
     "execution_count": 116,
     "metadata": {},
     "output_type": "execute_result"
    }
   ],
   "source": [
    "zz = Q([1, 2, 3]); zz"
   ]
  },
  {
   "cell_type": "code",
   "execution_count": 141,
   "id": "5e18fd0e-8319-447b-a83d-bdd5c290186f",
   "metadata": {
    "tags": []
   },
   "outputs": [
    {
     "data": {
      "text/plain": [
       "<built-in method map_coefficients of sage.rings.polynomial.polynomial_zz_pex.Polynomial_ZZ_pEX object at 0x1425ff340>"
      ]
     },
     "execution_count": 141,
     "metadata": {},
     "output_type": "execute_result"
    }
   ],
   "source": [
    "zz.map_coefficients"
   ]
  },
  {
   "cell_type": "code",
   "execution_count": 142,
   "id": "10a63dd9-b29d-4138-9af7-1d61c2c8b50c",
   "metadata": {
    "tags": []
   },
   "outputs": [],
   "source": [
    "lst = [1,2,3]\n",
    "lst2 = lst + [4]\n",
    "lst2[0] = 5"
   ]
  },
  {
   "cell_type": "code",
   "execution_count": 143,
   "id": "298c5e2e-716e-4964-8014-406a4b587cf0",
   "metadata": {
    "tags": []
   },
   "outputs": [
    {
     "data": {
      "text/plain": [
       "[5, 2, 3, 4]"
      ]
     },
     "execution_count": 143,
     "metadata": {},
     "output_type": "execute_result"
    }
   ],
   "source": [
    "lst2"
   ]
  },
  {
   "cell_type": "code",
   "execution_count": 144,
   "id": "5017ca99-339d-4782-b9f7-64122f5a28ca",
   "metadata": {
    "tags": []
   },
   "outputs": [
    {
     "data": {
      "text/plain": [
       "[1, 2, 3]"
      ]
     },
     "execution_count": 144,
     "metadata": {},
     "output_type": "execute_result"
    }
   ],
   "source": [
    "lst"
   ]
  },
  {
   "cell_type": "code",
   "execution_count": null,
   "id": "15a79796-baa7-4351-9d82-38f616958a58",
   "metadata": {},
   "outputs": [],
   "source": [
    "zip"
   ]
  }
 ],
 "metadata": {
  "kernelspec": {
   "display_name": "SageMath 10.1",
   "language": "sage",
   "name": "sagemath-10.1"
  },
  "language_info": {
   "codemirror_mode": {
    "name": "ipython",
    "version": 3
   },
   "file_extension": ".py",
   "mimetype": "text/x-python",
   "name": "python",
   "nbconvert_exporter": "python",
   "pygments_lexer": "ipython3",
   "version": "3.11.1"
  }
 },
 "nbformat": 4,
 "nbformat_minor": 5
}
